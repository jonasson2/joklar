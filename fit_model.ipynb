{
 "cells": [
  {
   "cell_type": "code",
   "execution_count": 2,
   "metadata": {
    "id": "AG7qcLskxTgH",
    "tags": [],
    "colab": {
     "base_uri": "https://localhost:8080/"
    },
    "executionInfo": {
     "status": "ok",
     "timestamp": 1711033139665,
     "user_tz": 0,
     "elapsed": 26035,
     "user": {
      "displayName": "Kristján Jónasson",
      "userId": "00508561415880381228"
     }
    },
    "outputId": "7c408897-ab07-40a2-cf69-2fe3a60f0dd7",
    "ExecuteTime": {
     "end_time": "2024-03-21T15:43:45.627885Z",
     "start_time": "2024-03-21T15:43:45.617997Z"
    }
   },
   "outputs": [],
   "source": [
    "import os\n",
    "try: # Check platform (Colab or Jupyter)\n",
    "    from google.colab import drive\n",
    "    drive.mount('/content/drive')\n",
    "    PATH = \"/content/drive/My Drive/joklar/\"\n",
    "except:\n",
    "    PATH = os.getcwd() + \"/\""
   ]
  },
  {
   "cell_type": "code",
   "execution_count": 3,
   "metadata": {
    "id": "4l99LOD_iBsC",
    "tags": [],
    "executionInfo": {
     "status": "ok",
     "timestamp": 1711033148123,
     "user_tz": 0,
     "elapsed": 8460,
     "user": {
      "displayName": "Kristján Jónasson",
      "userId": "00508561415880381228"
     }
    }
   },
   "outputs": [],
   "source": [
    "import numpy as np, os, sys, time, pandas as pd, tensorflow as tf, random\n",
    "start_time = time.time()\n",
    "import keras\n",
    "from tensorflow.keras.optimizers.legacy import Adam\n",
    "from sklearn.model_selection import train_test_split\n",
    "from tensorflow.keras.callbacks import EarlyStopping, ModelCheckpoint\n",
    "from tensorflow.keras.callbacks import ReduceLROnPlateau\n",
    "sys.path.append(PATH + \"src\")\n",
    "from util.util import install_import\n",
    "from util.image_util import get_border_indices\n",
    "from osgeo import gdal"
   ]
  },
  {
   "cell_type": "code",
   "execution_count": 4,
   "metadata": {
    "id": "PiMCe9HabXfW",
    "tags": [],
    "executionInfo": {
     "status": "ok",
     "timestamp": 1711033154966,
     "user_tz": 0,
     "elapsed": 1631,
     "user": {
      "displayName": "Kristján Jónasson",
      "userId": "00508561415880381228"
     }
    }
   },
   "outputs": [],
   "source": [
    "# Define model type and data to use\n",
    "MODELTYPE = \"unet\"\n",
    "AUGMENTATION = False\n",
    "MODEL_PATH = PATH + \"results/\" + MODELTYPE + \"/\"\n",
    "DATA_PATH = PATH + \"data/lang/\"\n",
    "os.makedirs(MODEL_PATH, exist_ok=True)\n",
    "os.chdir(MODEL_PATH)"
   ]
  },
  {
   "cell_type": "code",
   "execution_count": 5,
   "metadata": {
    "id": "DNKN0qujNrBa",
    "tags": [],
    "executionInfo": {
     "status": "ok",
     "timestamp": 1711033156347,
     "user_tz": 0,
     "elapsed": 3,
     "user": {
      "displayName": "Kristján Jónasson",
      "userId": "00508561415880381228"
     }
    }
   },
   "outputs": [],
   "source": []
  },
  {
   "cell_type": "code",
   "execution_count": 6,
   "metadata": {
    "id": "m5JIilbk2SAO",
    "tags": [],
    "executionInfo": {
     "status": "ok",
     "timestamp": 1711033162367,
     "user_tz": 0,
     "elapsed": 841,
     "user": {
      "displayName": "Kristján Jónasson",
      "userId": "00508561415880381228"
     }
    }
   },
   "outputs": [],
   "source": [
    "# Import project-specific packages\n",
    "\n",
    "# NOTES\n",
    "# deeplab-v3+ is copied more or less directly from the github repository\n",
    "#    github.com/david8862/tf-keras-deeplabv3p-model-set\n",
    "# (the original files are in the subdirectory from_github, cf differences.txt)\n",
    "#\n",
    "# unet is copied from...\n",
    "\n",
    "if MODELTYPE == \"unet\":\n",
    "    from models.unet import get_unet\n",
    "else: # deeplab\n",
    "    install_import(\"keras_applications\")\n",
    "    from models.deeplabv3p import model"
   ]
  },
  {
   "cell_type": "code",
   "execution_count": 8,
   "metadata": {
    "id": "VC_fLe17OvGG",
    "tags": [],
    "executionInfo": {
     "status": "ok",
     "timestamp": 1711033178164,
     "user_tz": 0,
     "elapsed": 617,
     "user": {
      "displayName": "Kristján Jónasson",
      "userId": "00508561415880381228"
     }
    }
   },
   "outputs": [],
   "source": [
    "def create_model():\n",
    "    if MODELTYPE == \"unet\":\n",
    "      input_img = keras.layers.Input((256, 256, 13), name='img')\n",
    "      Adam_params = {\"learning_rate\":1e-4, \"clipnorm\":1.0}\n",
    "      model = get_unet(input_img, n_filters=64, dropout=0.2, batchnorm=True)\n",
    "\n",
    "    else: # deeplab\n",
    "      Adam_params = {\"learning_rate\":1e-4}\n",
    "      get_deeplab = model.get_deeplabv3p_model\n",
    "      model = get_deeplab(model_type='resnet50', num_classes=1,\n",
    "                          model_input_shape=(256,256),\n",
    "                          output_stride=16,\n",
    "                          freeze_level=0,\n",
    "                          weights_path=None,\n",
    "                          training=True,\n",
    "                          use_subpixel=False)\n",
    "\n",
    "    model.compile(optimizer = Adam(**Adam_params),\n",
    "                  loss=\"binary_crossentropy\",\n",
    "                  metrics=[\"accuracy\"])\n",
    "    model.save('model_first.keras')\n",
    "    return model\n",
    "    # NOTE: Saving weights only gives a file just as big as saving the whole model"
   ]
  },
  {
   "cell_type": "code",
   "execution_count": 9,
   "metadata": {
    "id": "YPvmbfDPTEvm",
    "tags": [],
    "executionInfo": {
     "status": "ok",
     "timestamp": 1711033182180,
     "user_tz": 0,
     "elapsed": 2,
     "user": {
      "displayName": "Kristján Jónasson",
      "userId": "00508561415880381228"
     }
    }
   },
   "outputs": [],
   "source": [
    "def define_callbacks():\n",
    "    if MODELTYPE == \"unet\":\n",
    "      early_stopping = EarlyStopping(patience=15, verbose=1)\n",
    "      reduce_LR_on_plateau = ReduceLROnPlateau(factor=0.1,\n",
    "                                              patience=7,\n",
    "                                              min_lr=0.00001,\n",
    "                                              verbose=1),\n",
    "\n",
    "    else: # deeplab\n",
    "      early_stopping = EarlyStopping(min_delta=0.01,\n",
    "                                    patience=40,\n",
    "                                    verbose=1,\n",
    "                                    monitor='val_loss',\n",
    "                                    restore_best_weights=True)\n",
    "      reduce_LR_on_plateau = ReduceLROnPlateau(factor=0.1,\n",
    "                                              patience=10,\n",
    "                                              min_lr=1e-12,\n",
    "                                              verbose=1)\n",
    "    checkpoint_best = ModelCheckpoint('model_best.keras',\n",
    "                                      verbose=1,\n",
    "                                      monitor=\"val_loss\",\n",
    "                                      save_weights_only=True,\n",
    "                                      save_best_only=True)\n",
    "    checkpoint_last = ModelCheckpoint('model_last.keras',\n",
    "                                      save_weights_only=True)\n",
    "    callbacks = [\n",
    "      EarlyStopping(patience=60, verbose=1),\n",
    "      ReduceLROnPlateau(factor=0.3, patience=10, min_lr=0.00001, verbose=1),\n",
    "      checkpoint_best,\n",
    "      checkpoint_last,\n",
    "    ]\n",
    "    return callbacks"
   ]
  },
  {
   "cell_type": "code",
   "execution_count": 10,
   "metadata": {
    "id": "gmP8bV8i6b1C",
    "tags": [],
    "executionInfo": {
     "status": "ok",
     "timestamp": 1711033184154,
     "user_tz": 0,
     "elapsed": 2,
     "user": {
      "displayName": "Kristján Jónasson",
      "userId": "00508561415880381228"
     }
    }
   },
   "outputs": [],
   "source": [
    "def train_val_test_split(border_indices):\n",
    "  # Define data split (training, validation, and test sets)\n",
    "  seed = 42\n",
    "  tf_seed = 42\n",
    "  random.seed(seed)\n",
    "  np.random.seed(seed)\n",
    "  tf.random.set_seed(tf_seed)\n",
    "  test_size = 0.15\n",
    "  train_size = 0.18  # or 0.15/(1 - test_size)\n",
    "  temp, test = train_test_split(border_indices, test_size = test_size, random_state=seed)\n",
    "  train, val = train_test_split(temp, test_size = train_size, random_state=seed)\n",
    "  return train, val, test"
   ]
  },
  {
   "cell_type": "code",
   "execution_count": 11,
   "metadata": {
    "id": "O5eu1r0pKJW8",
    "tags": [],
    "executionInfo": {
     "status": "ok",
     "timestamp": 1711033185625,
     "user_tz": 0,
     "elapsed": 3,
     "user": {
      "displayName": "Kristján Jónasson",
      "userId": "00508561415880381228"
     }
    }
   },
   "outputs": [],
   "source": [
    "def albumentations_generator(img, mask, train):\n",
    "  # Implement data augmentation with the albumentations package\n",
    "  augmentation = {\n",
    "      \"random_gamma_probability\": 0.5,\n",
    "      \"random_gamma_gamma_limit\": [80, 120],\n",
    "      \"flipud_probability\": 0.5,\n",
    "      \"fliplr_probability\": 0.5,\n",
    "      \"rotate90_probability\": 0.5,\n",
    "      \"random_crop_probability\": 0.5,\n",
    "      \"random_crop_height\": 256,\n",
    "      \"random_crop_width\": 256,\n",
    "      \"random_crop_scale_x\": 0.5,\n",
    "      \"random_crop_scale_y\": 0.5\n",
    "  }\n",
    "  from util.generator import AugmentDataGenerator\n",
    "  train_gen = AugmentDataGenerator(img[train], mask[train], augmentation)\n",
    "  return train_gen"
   ]
  },
  {
   "cell_type": "code",
   "execution_count": 13,
   "metadata": {
    "colab": {
     "base_uri": "https://localhost:8080/"
    },
    "executionInfo": {
     "elapsed": 10827,
     "status": "ok",
     "timestamp": 1711033208031,
     "user": {
      "displayName": "Kristján Jónasson",
      "userId": "00508561415880381228"
     },
     "user_tz": 0
    },
    "id": "B6GNRzUzmlus",
    "outputId": "afc2577d-38e8-48d6-cd05-dd3b895ba38f",
    "tags": []
   },
   "outputs": [
    {
     "output_type": "stream",
     "name": "stdout",
     "text": [
      "13 channels, 105 tiles, datatype: float64\n",
      "CPU times: user 2.52 s, sys: 381 ms, total: 2.9 s\n",
      "Wall time: 10.5 s\n"
     ]
    }
   ],
   "source": [
    "%%time\n",
    "(image, mask) = load_data(\"border\")\n",
    "dtype = image.dtype\n",
    "ntile = len(image)\n",
    "nchan = image.shape[-1]\n",
    "print(f\"{nchan} channels, {ntile} tiles, datatype: {dtype}\")"
   ]
  },
  {
   "cell_type": "code",
   "execution_count": 13,
   "metadata": {
    "id": "N5O0dcbovMpX",
    "tags": [],
    "executionInfo": {
     "status": "ok",
     "timestamp": 1711032173844,
     "user_tz": 0,
     "elapsed": 8349,
     "user": {
      "displayName": "Kristján Jónasson",
      "userId": "00508561415880381228"
     }
    }
   },
   "outputs": [],
   "source": [
    "(train, val, test) = train_val_test_split(range(ntile))\n",
    "if AUGMENTATION:\n",
    "  data_input = (albumentations_generator(image, mask, train),)\n",
    "else:\n",
    "  data_input = (image[train], mask[train])\n",
    "model = create_model()\n",
    "callbacks = define_callbacks()"
   ]
  },
  {
   "cell_type": "code",
   "execution_count": 14,
   "metadata": {
    "colab": {
     "base_uri": "https://localhost:8080/"
    },
    "executionInfo": {
     "elapsed": 154453,
     "status": "ok",
     "timestamp": 1711032328275,
     "user": {
      "displayName": "Kristján Jónasson",
      "userId": "00508561415880381228"
     },
     "user_tz": 0
    },
    "id": "hlaefjAmd1uB",
    "outputId": "d35a63fa-53b9-4cb2-a752-d28e6c9a8cf7",
    "tags": []
   },
   "outputs": [
    {
     "output_type": "stream",
     "name": "stdout",
     "text": [
      "Epoch 1/60\n",
      "9/9 [==============================] - ETA: 0s - loss: 0.6245 - accuracy: 0.6054\n",
      "Epoch 1: val_loss improved from inf to 0.60225, saving model to model_best.keras\n",
      "9/9 [==============================] - 27s 2s/step - loss: 0.6245 - accuracy: 0.6054 - val_loss: 0.6023 - val_accuracy: 0.4582 - lr: 1.0000e-04\n",
      "Epoch 2/60\n",
      "9/9 [==============================] - ETA: 0s - loss: 0.2843 - accuracy: 0.9349\n",
      "Epoch 2: val_loss did not improve from 0.60225\n",
      "9/9 [==============================] - 2s 199ms/step - loss: 0.2843 - accuracy: 0.9349 - val_loss: 1.2141 - val_accuracy: 0.4583 - lr: 1.0000e-04\n",
      "Epoch 3/60\n",
      "9/9 [==============================] - ETA: 0s - loss: 0.1935 - accuracy: 0.9524\n",
      "Epoch 3: val_loss did not improve from 0.60225\n",
      "9/9 [==============================] - 2s 191ms/step - loss: 0.1935 - accuracy: 0.9524 - val_loss: 2.5420 - val_accuracy: 0.4582 - lr: 1.0000e-04\n",
      "Epoch 4/60\n",
      "9/9 [==============================] - ETA: 0s - loss: 0.1407 - accuracy: 0.9650\n",
      "Epoch 4: val_loss did not improve from 0.60225\n",
      "9/9 [==============================] - 2s 192ms/step - loss: 0.1407 - accuracy: 0.9650 - val_loss: 1.6029 - val_accuracy: 0.4582 - lr: 1.0000e-04\n",
      "Epoch 5/60\n",
      "9/9 [==============================] - ETA: 0s - loss: 0.1216 - accuracy: 0.9719\n",
      "Epoch 5: val_loss did not improve from 0.60225\n",
      "9/9 [==============================] - 2s 230ms/step - loss: 0.1216 - accuracy: 0.9719 - val_loss: 2.1264 - val_accuracy: 0.4582 - lr: 1.0000e-04\n",
      "Epoch 6/60\n",
      "9/9 [==============================] - ETA: 0s - loss: 0.1630 - accuracy: 0.9446\n",
      "Epoch 6: val_loss did not improve from 0.60225\n",
      "9/9 [==============================] - 2s 212ms/step - loss: 0.1630 - accuracy: 0.9446 - val_loss: 1.9301 - val_accuracy: 0.4582 - lr: 1.0000e-04\n",
      "Epoch 7/60\n",
      "9/9 [==============================] - ETA: 0s - loss: 0.1283 - accuracy: 0.9685\n",
      "Epoch 7: val_loss did not improve from 0.60225\n",
      "9/9 [==============================] - 2s 194ms/step - loss: 0.1283 - accuracy: 0.9685 - val_loss: 0.8109 - val_accuracy: 0.4582 - lr: 1.0000e-04\n",
      "Epoch 8/60\n",
      "9/9 [==============================] - ETA: 0s - loss: 0.1135 - accuracy: 0.9735\n",
      "Epoch 8: val_loss did not improve from 0.60225\n",
      "9/9 [==============================] - 2s 202ms/step - loss: 0.1135 - accuracy: 0.9735 - val_loss: 0.8073 - val_accuracy: 0.4582 - lr: 1.0000e-04\n",
      "Epoch 9/60\n",
      "9/9 [==============================] - ETA: 0s - loss: 0.1174 - accuracy: 0.9678\n",
      "Epoch 9: val_loss did not improve from 0.60225\n",
      "9/9 [==============================] - 2s 195ms/step - loss: 0.1174 - accuracy: 0.9678 - val_loss: 1.1028 - val_accuracy: 0.4582 - lr: 1.0000e-04\n",
      "Epoch 10/60\n",
      "9/9 [==============================] - ETA: 0s - loss: 0.1000 - accuracy: 0.9783\n",
      "Epoch 10: val_loss did not improve from 0.60225\n",
      "9/9 [==============================] - 2s 197ms/step - loss: 0.1000 - accuracy: 0.9783 - val_loss: 0.9972 - val_accuracy: 0.4582 - lr: 1.0000e-04\n",
      "Epoch 11/60\n",
      "9/9 [==============================] - ETA: 0s - loss: 0.0963 - accuracy: 0.9790\n",
      "Epoch 11: ReduceLROnPlateau reducing learning rate to 2.9999999242136255e-05.\n",
      "\n",
      "Epoch 11: val_loss did not improve from 0.60225\n",
      "9/9 [==============================] - 2s 202ms/step - loss: 0.0963 - accuracy: 0.9790 - val_loss: 0.9468 - val_accuracy: 0.4582 - lr: 1.0000e-04\n",
      "Epoch 12/60\n",
      "9/9 [==============================] - ETA: 0s - loss: 0.0957 - accuracy: 0.9788\n",
      "Epoch 12: val_loss did not improve from 0.60225\n",
      "9/9 [==============================] - 2s 195ms/step - loss: 0.0957 - accuracy: 0.9788 - val_loss: 0.9540 - val_accuracy: 0.4582 - lr: 3.0000e-05\n",
      "Epoch 13/60\n",
      "9/9 [==============================] - ETA: 0s - loss: 0.1179 - accuracy: 0.9738\n",
      "Epoch 13: val_loss did not improve from 0.60225\n",
      "9/9 [==============================] - 2s 206ms/step - loss: 0.1179 - accuracy: 0.9738 - val_loss: 0.9731 - val_accuracy: 0.4582 - lr: 3.0000e-05\n",
      "Epoch 14/60\n",
      "9/9 [==============================] - ETA: 0s - loss: 0.1168 - accuracy: 0.9735\n",
      "Epoch 14: val_loss did not improve from 0.60225\n",
      "9/9 [==============================] - 2s 226ms/step - loss: 0.1168 - accuracy: 0.9735 - val_loss: 0.9083 - val_accuracy: 0.4582 - lr: 3.0000e-05\n",
      "Epoch 15/60\n",
      "9/9 [==============================] - ETA: 0s - loss: 0.1059 - accuracy: 0.9787\n",
      "Epoch 15: val_loss did not improve from 0.60225\n",
      "9/9 [==============================] - 2s 196ms/step - loss: 0.1059 - accuracy: 0.9787 - val_loss: 0.8097 - val_accuracy: 0.4582 - lr: 3.0000e-05\n",
      "Epoch 16/60\n",
      "9/9 [==============================] - ETA: 0s - loss: 0.0896 - accuracy: 0.9808\n",
      "Epoch 16: val_loss did not improve from 0.60225\n",
      "9/9 [==============================] - 2s 194ms/step - loss: 0.0896 - accuracy: 0.9808 - val_loss: 0.8261 - val_accuracy: 0.4582 - lr: 3.0000e-05\n",
      "Epoch 17/60\n",
      "9/9 [==============================] - ETA: 0s - loss: 0.1187 - accuracy: 0.9746\n",
      "Epoch 17: val_loss did not improve from 0.60225\n",
      "9/9 [==============================] - 2s 195ms/step - loss: 0.1187 - accuracy: 0.9746 - val_loss: 0.8653 - val_accuracy: 0.4582 - lr: 3.0000e-05\n",
      "Epoch 18/60\n",
      "9/9 [==============================] - ETA: 0s - loss: 0.1148 - accuracy: 0.9744\n",
      "Epoch 18: val_loss did not improve from 0.60225\n",
      "9/9 [==============================] - 2s 200ms/step - loss: 0.1148 - accuracy: 0.9744 - val_loss: 0.9478 - val_accuracy: 0.4583 - lr: 3.0000e-05\n",
      "Epoch 19/60\n",
      "9/9 [==============================] - ETA: 0s - loss: 0.0911 - accuracy: 0.9804\n",
      "Epoch 19: val_loss did not improve from 0.60225\n",
      "9/9 [==============================] - 2s 192ms/step - loss: 0.0911 - accuracy: 0.9804 - val_loss: 1.0380 - val_accuracy: 0.4587 - lr: 3.0000e-05\n",
      "Epoch 20/60\n",
      "9/9 [==============================] - ETA: 0s - loss: 0.1037 - accuracy: 0.9800\n",
      "Epoch 20: val_loss did not improve from 0.60225\n",
      "9/9 [==============================] - 2s 227ms/step - loss: 0.1037 - accuracy: 0.9800 - val_loss: 1.0484 - val_accuracy: 0.4595 - lr: 3.0000e-05\n",
      "Epoch 21/60\n",
      "9/9 [==============================] - ETA: 0s - loss: 0.1010 - accuracy: 0.9786\n",
      "Epoch 21: ReduceLROnPlateau reducing learning rate to 1e-05.\n",
      "\n",
      "Epoch 21: val_loss did not improve from 0.60225\n",
      "9/9 [==============================] - 2s 228ms/step - loss: 0.1010 - accuracy: 0.9786 - val_loss: 0.9639 - val_accuracy: 0.4603 - lr: 3.0000e-05\n",
      "Epoch 22/60\n",
      "9/9 [==============================] - ETA: 0s - loss: 0.0870 - accuracy: 0.9822\n",
      "Epoch 22: val_loss did not improve from 0.60225\n",
      "9/9 [==============================] - 2s 200ms/step - loss: 0.0870 - accuracy: 0.9822 - val_loss: 0.8847 - val_accuracy: 0.4615 - lr: 1.0000e-05\n",
      "Epoch 23/60\n",
      "9/9 [==============================] - ETA: 0s - loss: 0.0923 - accuracy: 0.9805\n",
      "Epoch 23: val_loss did not improve from 0.60225\n",
      "9/9 [==============================] - 2s 203ms/step - loss: 0.0923 - accuracy: 0.9805 - val_loss: 0.8004 - val_accuracy: 0.4634 - lr: 1.0000e-05\n",
      "Epoch 24/60\n",
      "9/9 [==============================] - ETA: 0s - loss: 0.0892 - accuracy: 0.9809\n",
      "Epoch 24: val_loss did not improve from 0.60225\n",
      "9/9 [==============================] - 2s 189ms/step - loss: 0.0892 - accuracy: 0.9809 - val_loss: 0.7493 - val_accuracy: 0.4650 - lr: 1.0000e-05\n",
      "Epoch 25/60\n",
      "9/9 [==============================] - ETA: 0s - loss: 0.1069 - accuracy: 0.9773\n",
      "Epoch 25: val_loss did not improve from 0.60225\n",
      "9/9 [==============================] - 2s 207ms/step - loss: 0.1069 - accuracy: 0.9773 - val_loss: 0.6987 - val_accuracy: 0.4675 - lr: 1.0000e-05\n",
      "Epoch 26/60\n",
      "9/9 [==============================] - ETA: 0s - loss: 0.0920 - accuracy: 0.9807\n",
      "Epoch 26: val_loss did not improve from 0.60225\n",
      "9/9 [==============================] - 2s 195ms/step - loss: 0.0920 - accuracy: 0.9807 - val_loss: 0.6941 - val_accuracy: 0.4695 - lr: 1.0000e-05\n",
      "Epoch 27/60\n",
      "9/9 [==============================] - ETA: 0s - loss: 0.1177 - accuracy: 0.9736\n",
      "Epoch 27: val_loss did not improve from 0.60225\n",
      "9/9 [==============================] - 2s 198ms/step - loss: 0.1177 - accuracy: 0.9736 - val_loss: 0.6649 - val_accuracy: 0.4737 - lr: 1.0000e-05\n",
      "Epoch 28/60\n",
      "9/9 [==============================] - ETA: 0s - loss: 0.0898 - accuracy: 0.9817\n",
      "Epoch 28: val_loss did not improve from 0.60225\n",
      "9/9 [==============================] - 2s 213ms/step - loss: 0.0898 - accuracy: 0.9817 - val_loss: 0.6584 - val_accuracy: 0.4788 - lr: 1.0000e-05\n",
      "Epoch 29/60\n",
      "9/9 [==============================] - ETA: 0s - loss: 0.0865 - accuracy: 0.9811\n",
      "Epoch 29: val_loss did not improve from 0.60225\n",
      "9/9 [==============================] - 2s 218ms/step - loss: 0.0865 - accuracy: 0.9811 - val_loss: 0.6490 - val_accuracy: 0.4839 - lr: 1.0000e-05\n",
      "Epoch 30/60\n",
      "9/9 [==============================] - ETA: 0s - loss: 0.1075 - accuracy: 0.9753\n",
      "Epoch 30: val_loss did not improve from 0.60225\n",
      "9/9 [==============================] - 2s 203ms/step - loss: 0.1075 - accuracy: 0.9753 - val_loss: 0.6282 - val_accuracy: 0.4931 - lr: 1.0000e-05\n",
      "Epoch 31/60\n",
      "9/9 [==============================] - ETA: 0s - loss: 0.0943 - accuracy: 0.9805\n",
      "Epoch 31: val_loss improved from 0.60225 to 0.59828, saving model to model_best.keras\n",
      "9/9 [==============================] - 3s 379ms/step - loss: 0.0943 - accuracy: 0.9805 - val_loss: 0.5983 - val_accuracy: 0.5050 - lr: 1.0000e-05\n",
      "Epoch 32/60\n",
      "9/9 [==============================] - ETA: 0s - loss: 0.0883 - accuracy: 0.9816\n",
      "Epoch 32: val_loss did not improve from 0.59828\n",
      "9/9 [==============================] - 2s 191ms/step - loss: 0.0883 - accuracy: 0.9816 - val_loss: 0.6034 - val_accuracy: 0.5089 - lr: 1.0000e-05\n",
      "Epoch 33/60\n",
      "9/9 [==============================] - ETA: 0s - loss: 0.1031 - accuracy: 0.9778\n",
      "Epoch 33: val_loss improved from 0.59828 to 0.56577, saving model to model_best.keras\n",
      "9/9 [==============================] - 2s 244ms/step - loss: 0.1031 - accuracy: 0.9778 - val_loss: 0.5658 - val_accuracy: 0.5267 - lr: 1.0000e-05\n",
      "Epoch 34/60\n",
      "9/9 [==============================] - ETA: 0s - loss: 0.0917 - accuracy: 0.9817\n",
      "Epoch 34: val_loss improved from 0.56577 to 0.54120, saving model to model_best.keras\n",
      "9/9 [==============================] - 2s 263ms/step - loss: 0.0917 - accuracy: 0.9817 - val_loss: 0.5412 - val_accuracy: 0.5459 - lr: 1.0000e-05\n",
      "Epoch 35/60\n",
      "9/9 [==============================] - ETA: 0s - loss: 0.0920 - accuracy: 0.9813\n",
      "Epoch 35: val_loss improved from 0.54120 to 0.44422, saving model to model_best.keras\n",
      "9/9 [==============================] - 2s 280ms/step - loss: 0.0920 - accuracy: 0.9813 - val_loss: 0.4442 - val_accuracy: 0.6673 - lr: 1.0000e-05\n",
      "Epoch 36/60\n",
      "9/9 [==============================] - ETA: 0s - loss: 0.0954 - accuracy: 0.9809\n",
      "Epoch 36: val_loss improved from 0.44422 to 0.39761, saving model to model_best.keras\n",
      "9/9 [==============================] - 3s 324ms/step - loss: 0.0954 - accuracy: 0.9809 - val_loss: 0.3976 - val_accuracy: 0.7748 - lr: 1.0000e-05\n",
      "Epoch 37/60\n",
      "9/9 [==============================] - ETA: 0s - loss: 0.1007 - accuracy: 0.9804\n",
      "Epoch 37: val_loss improved from 0.39761 to 0.37467, saving model to model_best.keras\n",
      "9/9 [==============================] - 2s 253ms/step - loss: 0.1007 - accuracy: 0.9804 - val_loss: 0.3747 - val_accuracy: 0.8257 - lr: 1.0000e-05\n",
      "Epoch 38/60\n",
      "9/9 [==============================] - ETA: 0s - loss: 0.0901 - accuracy: 0.9814\n",
      "Epoch 38: val_loss improved from 0.37467 to 0.34971, saving model to model_best.keras\n",
      "9/9 [==============================] - 2s 269ms/step - loss: 0.0901 - accuracy: 0.9814 - val_loss: 0.3497 - val_accuracy: 0.8722 - lr: 1.0000e-05\n",
      "Epoch 39/60\n",
      "9/9 [==============================] - ETA: 0s - loss: 0.0895 - accuracy: 0.9815\n",
      "Epoch 39: val_loss improved from 0.34971 to 0.33976, saving model to model_best.keras\n",
      "9/9 [==============================] - 2s 250ms/step - loss: 0.0895 - accuracy: 0.9815 - val_loss: 0.3398 - val_accuracy: 0.8862 - lr: 1.0000e-05\n",
      "Epoch 40/60\n",
      "9/9 [==============================] - ETA: 0s - loss: 0.1007 - accuracy: 0.9803\n",
      "Epoch 40: val_loss improved from 0.33976 to 0.33100, saving model to model_best.keras\n",
      "9/9 [==============================] - 2s 275ms/step - loss: 0.1007 - accuracy: 0.9803 - val_loss: 0.3310 - val_accuracy: 0.8966 - lr: 1.0000e-05\n",
      "Epoch 41/60\n",
      "9/9 [==============================] - ETA: 0s - loss: 0.0913 - accuracy: 0.9812\n",
      "Epoch 41: val_loss improved from 0.33100 to 0.29696, saving model to model_best.keras\n",
      "9/9 [==============================] - 2s 293ms/step - loss: 0.0913 - accuracy: 0.9812 - val_loss: 0.2970 - val_accuracy: 0.9347 - lr: 1.0000e-05\n",
      "Epoch 42/60\n",
      "9/9 [==============================] - ETA: 0s - loss: 0.1055 - accuracy: 0.9771\n",
      "Epoch 42: val_loss did not improve from 0.29696\n",
      "9/9 [==============================] - 2s 197ms/step - loss: 0.1055 - accuracy: 0.9771 - val_loss: 0.2989 - val_accuracy: 0.9315 - lr: 1.0000e-05\n",
      "Epoch 43/60\n",
      "9/9 [==============================] - ETA: 0s - loss: 0.0931 - accuracy: 0.9811\n",
      "Epoch 43: val_loss did not improve from 0.29696\n",
      "9/9 [==============================] - 2s 195ms/step - loss: 0.0931 - accuracy: 0.9811 - val_loss: 0.3113 - val_accuracy: 0.9165 - lr: 1.0000e-05\n",
      "Epoch 44/60\n",
      "9/9 [==============================] - ETA: 0s - loss: 0.0927 - accuracy: 0.9804\n",
      "Epoch 44: val_loss did not improve from 0.29696\n",
      "9/9 [==============================] - 2s 190ms/step - loss: 0.0927 - accuracy: 0.9804 - val_loss: 0.3195 - val_accuracy: 0.9045 - lr: 1.0000e-05\n",
      "Epoch 45/60\n",
      "9/9 [==============================] - ETA: 0s - loss: 0.0990 - accuracy: 0.9813\n",
      "Epoch 45: val_loss did not improve from 0.29696\n",
      "9/9 [==============================] - 2s 191ms/step - loss: 0.0990 - accuracy: 0.9813 - val_loss: 0.2991 - val_accuracy: 0.9243 - lr: 1.0000e-05\n",
      "Epoch 46/60\n",
      "9/9 [==============================] - ETA: 0s - loss: 0.0818 - accuracy: 0.9817\n",
      "Epoch 46: val_loss improved from 0.29696 to 0.26044, saving model to model_best.keras\n",
      "9/9 [==============================] - 2s 252ms/step - loss: 0.0818 - accuracy: 0.9817 - val_loss: 0.2604 - val_accuracy: 0.9557 - lr: 1.0000e-05\n",
      "Epoch 47/60\n",
      "9/9 [==============================] - ETA: 0s - loss: 0.0985 - accuracy: 0.9793\n",
      "Epoch 47: val_loss improved from 0.26044 to 0.25960, saving model to model_best.keras\n",
      "9/9 [==============================] - 2s 278ms/step - loss: 0.0985 - accuracy: 0.9793 - val_loss: 0.2596 - val_accuracy: 0.9501 - lr: 1.0000e-05\n",
      "Epoch 48/60\n",
      "9/9 [==============================] - ETA: 0s - loss: 0.0888 - accuracy: 0.9821\n",
      "Epoch 48: val_loss improved from 0.25960 to 0.24531, saving model to model_best.keras\n",
      "9/9 [==============================] - 3s 308ms/step - loss: 0.0888 - accuracy: 0.9821 - val_loss: 0.2453 - val_accuracy: 0.9551 - lr: 1.0000e-05\n",
      "Epoch 49/60\n",
      "9/9 [==============================] - ETA: 0s - loss: 0.0817 - accuracy: 0.9816\n",
      "Epoch 49: val_loss improved from 0.24531 to 0.21167, saving model to model_best.keras\n",
      "9/9 [==============================] - 2s 245ms/step - loss: 0.0817 - accuracy: 0.9816 - val_loss: 0.2117 - val_accuracy: 0.9758 - lr: 1.0000e-05\n",
      "Epoch 50/60\n",
      "9/9 [==============================] - ETA: 0s - loss: 0.0783 - accuracy: 0.9828\n",
      "Epoch 50: val_loss improved from 0.21167 to 0.19426, saving model to model_best.keras\n",
      "9/9 [==============================] - 2s 244ms/step - loss: 0.0783 - accuracy: 0.9828 - val_loss: 0.1943 - val_accuracy: 0.9814 - lr: 1.0000e-05\n",
      "Epoch 51/60\n",
      "9/9 [==============================] - ETA: 0s - loss: 0.0828 - accuracy: 0.9827\n",
      "Epoch 51: val_loss did not improve from 0.19426\n",
      "9/9 [==============================] - 2s 192ms/step - loss: 0.0828 - accuracy: 0.9827 - val_loss: 0.1948 - val_accuracy: 0.9779 - lr: 1.0000e-05\n",
      "Epoch 52/60\n",
      "9/9 [==============================] - ETA: 0s - loss: 0.0907 - accuracy: 0.9816\n",
      "Epoch 52: val_loss improved from 0.19426 to 0.18932, saving model to model_best.keras\n",
      "9/9 [==============================] - 2s 244ms/step - loss: 0.0907 - accuracy: 0.9816 - val_loss: 0.1893 - val_accuracy: 0.9771 - lr: 1.0000e-05\n",
      "Epoch 53/60\n",
      "9/9 [==============================] - ETA: 0s - loss: 0.0938 - accuracy: 0.9803\n",
      "Epoch 53: val_loss improved from 0.18932 to 0.18022, saving model to model_best.keras\n",
      "9/9 [==============================] - 2s 270ms/step - loss: 0.0938 - accuracy: 0.9803 - val_loss: 0.1802 - val_accuracy: 0.9804 - lr: 1.0000e-05\n",
      "Epoch 54/60\n",
      "9/9 [==============================] - ETA: 0s - loss: 0.0881 - accuracy: 0.9815\n",
      "Epoch 54: val_loss did not improve from 0.18022\n",
      "9/9 [==============================] - 2s 217ms/step - loss: 0.0881 - accuracy: 0.9815 - val_loss: 0.1925 - val_accuracy: 0.9682 - lr: 1.0000e-05\n",
      "Epoch 55/60\n",
      "9/9 [==============================] - ETA: 0s - loss: 0.0848 - accuracy: 0.9826\n",
      "Epoch 55: val_loss did not improve from 0.18022\n",
      "9/9 [==============================] - 2s 204ms/step - loss: 0.0848 - accuracy: 0.9826 - val_loss: 0.2076 - val_accuracy: 0.9550 - lr: 1.0000e-05\n",
      "Epoch 56/60\n",
      "9/9 [==============================] - ETA: 0s - loss: 0.0878 - accuracy: 0.9819\n",
      "Epoch 56: val_loss improved from 0.18022 to 0.17758, saving model to model_best.keras\n",
      "9/9 [==============================] - 2s 242ms/step - loss: 0.0878 - accuracy: 0.9819 - val_loss: 0.1776 - val_accuracy: 0.9722 - lr: 1.0000e-05\n",
      "Epoch 57/60\n",
      "9/9 [==============================] - ETA: 0s - loss: 0.0817 - accuracy: 0.9825\n",
      "Epoch 57: val_loss improved from 0.17758 to 0.15354, saving model to model_best.keras\n",
      "9/9 [==============================] - 2s 246ms/step - loss: 0.0817 - accuracy: 0.9825 - val_loss: 0.1535 - val_accuracy: 0.9833 - lr: 1.0000e-05\n",
      "Epoch 58/60\n",
      "9/9 [==============================] - ETA: 0s - loss: 0.0842 - accuracy: 0.9807\n",
      "Epoch 58: val_loss improved from 0.15354 to 0.14800, saving model to model_best.keras\n",
      "9/9 [==============================] - 2s 249ms/step - loss: 0.0842 - accuracy: 0.9807 - val_loss: 0.1480 - val_accuracy: 0.9831 - lr: 1.0000e-05\n",
      "Epoch 59/60\n",
      "9/9 [==============================] - ETA: 0s - loss: 0.0916 - accuracy: 0.9808\n",
      "Epoch 59: val_loss improved from 0.14800 to 0.14736, saving model to model_best.keras\n",
      "9/9 [==============================] - 2s 240ms/step - loss: 0.0916 - accuracy: 0.9808 - val_loss: 0.1474 - val_accuracy: 0.9831 - lr: 1.0000e-05\n",
      "Epoch 60/60\n",
      "9/9 [==============================] - ETA: 0s - loss: 0.0852 - accuracy: 0.9815\n",
      "Epoch 60: val_loss did not improve from 0.14736\n",
      "9/9 [==============================] - 2s 205ms/step - loss: 0.0852 - accuracy: 0.9815 - val_loss: 0.1553 - val_accuracy: 0.9738 - lr: 1.0000e-05\n"
     ]
    }
   ],
   "source": [
    "# Train (save best results, and possibly all)\n",
    "do_train = True\n",
    "model = tf.keras.models.load_model('model_first.keras')\n",
    "if do_train:\n",
    "  results = model.fit(*data_input,\n",
    "                      batch_size = 8 if model==\"deeplab\" else 8,\n",
    "                      epochs = 60,\n",
    "                      callbacks = callbacks,\n",
    "                      validation_data=(image[val], mask[val]))\n",
    "  history = results.history\n",
    "else:\n",
    "  model = tf.keras.models.load_model('model_best.h5')\n",
    "  history = pd.read_csv('result_history.csv')"
   ]
  },
  {
   "cell_type": "code",
   "execution_count": 15,
   "metadata": {
    "id": "3oeQFelQT8NI",
    "colab": {
     "base_uri": "https://localhost:8080/",
     "height": 487
    },
    "executionInfo": {
     "status": "ok",
     "timestamp": 1711032328868,
     "user_tz": 0,
     "elapsed": 614,
     "user": {
      "displayName": "Kristján Jónasson",
      "userId": "00508561415880381228"
     }
    },
    "outputId": "940b71d8-b7b9-4d93-975e-73578675b7cb"
   },
   "outputs": [
    {
     "output_type": "display_data",
     "data": {
      "text/plain": [
       "<Figure size 700x500 with 1 Axes>"
      ],
      "image/png": "[encoded data removed]"
     },
     "metadata": {}
    }
   ],
   "source": [
    "# Plot learning curve\n",
    "import matplotlib.pyplot as plt\n",
    "plt.figure(figsize=(7, 5))\n",
    "plt.title(\"Learning curve\")\n",
    "plt.plot(history[\"loss\"], label=\"loss\")\n",
    "plt.plot(history[\"val_loss\"], label=\"val_loss\")\n",
    "plt.plot(np.argmin(history[\"val_loss\"]),\n",
    "        np.min(history[\"val_loss\"]),\n",
    "        marker=\"x\", color=\"r\", label=\"best model\")\n",
    "plt.xlabel(\"Epochs\")\n",
    "plt.ylabel(\"log_loss\")\n",
    "plt.legend();"
   ]
  },
  {
   "cell_type": "code",
   "execution_count": 16,
   "metadata": {
    "id": "HmUuD0jOL7Bw",
    "colab": {
     "base_uri": "https://localhost:8080/",
     "height": 601
    },
    "executionInfo": {
     "status": "ok",
     "timestamp": 1711032344312,
     "user_tz": 0,
     "elapsed": 15449,
     "user": {
      "displayName": "Kristján Jónasson",
      "userId": "00508561415880381228"
     }
    },
    "outputId": "cf717a29-e3b5-4c34-eafe-69a02c3ee100"
   },
   "outputs": [
    {
     "output_type": "stream",
     "name": "stdout",
     "text": [
      "4/4 [==============================] - 8s 782ms/step\n",
      "1/1 [==============================] - 3s 3s/step - loss: 0.1552 - accuracy: 0.9782\n",
      "Accuracy on test: 0.9782314300537109\n"
     ]
    },
    {
     "output_type": "execute_result",
     "data": {
      "text/plain": [
       "(array([ 644134., 2129999.,  390702.,  161726.,  131756.,   73243.,\n",
       "          44713.,   48417.,   90351., 3166239.]),\n",
       " array([0.0364091 , 0.1327654 , 0.22912169, 0.32547796, 0.42183426,\n",
       "        0.51819056, 0.61454684, 0.71090311, 0.80725938, 0.90361571,\n",
       "        0.99997199]),\n",
       " <BarContainer object of 10 artists>)"
      ]
     },
     "metadata": {},
     "execution_count": 16
    },
    {
     "output_type": "display_data",
     "data": {
      "text/plain": [
       "<Figure size 640x480 with 1 Axes>"
      ],
      "image/png": "[encoded data removed]"
     },
     "metadata": {}
    }
   ],
   "source": [
    "# Compute predicted probabilites everywhere; evaluate on test\n",
    "probs = model.predict(image, verbose=1)\n",
    "(test_loss, test_accuracy) = model.evaluate(image[test], mask[test])\n",
    "print(f'Accuracy on test: {test_accuracy}')\n",
    "plt.hist(probs.ravel())"
   ]
  },
  {
   "cell_type": "code",
   "execution_count": 17,
   "metadata": {
    "id": "zBAVJDuhKC7w",
    "executionInfo": {
     "status": "ok",
     "timestamp": 1711032350418,
     "user_tz": 0,
     "elapsed": 6128,
     "user": {
      "displayName": "Kristján Jónasson",
      "userId": "00508561415880381228"
     }
    }
   },
   "outputs": [],
   "source": [
    "# Save the training history and model predictions\n",
    "pdhistory = pd.DataFrame(history)\n",
    "pdhistory.to_csv(\"result_history.csv\")\n",
    "np.savez(\"probs.npz\", probs, test_loss, test_accuracy)"
   ]
  },
  {
   "cell_type": "code",
   "execution_count": 18,
   "metadata": {
    "id": "s_TBXWJI_Med",
    "colab": {
     "base_uri": "https://localhost:8080/"
    },
    "executionInfo": {
     "status": "ok",
     "timestamp": 1711032350418,
     "user_tz": 0,
     "elapsed": 5,
     "user": {
      "displayName": "Kristján Jónasson",
      "userId": "00508561415880381228"
     }
    },
    "outputId": "fa56ec24-5739-4b44-8836-c39959775570"
   },
   "outputs": [
    {
     "output_type": "stream",
     "name": "stdout",
     "text": [
      "Total execution time: 3:20\n"
     ]
    }
   ],
   "source": [
    "# Display running time and disconnect\n",
    "end_time = time.time()\n",
    "min, sec = divmod(int(end_time - start_time), 60)\n",
    "print(f\"Total execution time: {min}:{sec:02}\")"
   ]
  },
  {
   "cell_type": "code",
   "execution_count": null,
   "metadata": {
    "id": "1mQTfHW1fQjU"
   },
   "outputs": [],
   "source": [
    "from google.colab import runtime\n",
    "runtime.unassign()"
   ]
  },
  {
   "cell_type": "code",
   "execution_count": null,
   "metadata": {
    "id": "weCq-nsLy8Mb"
   },
   "outputs": [],
   "source": []
  }
 ],
 "metadata": {
  "accelerator": "GPU",
  "colab": {
   "gpuType": "V100",
   "provenance": []
  },
  "kernelspec": {
   "name": "python3",
   "language": "python",
   "display_name": "Python 3 (ipykernel)"
  },
  "language_info": {
   "codemirror_mode": {
    "name": "ipython",
    "version": 3
   },
   "file_extension": ".py",
   "mimetype": "text/x-python",
   "name": "python",
   "nbconvert_exporter": "python",
   "pygments_lexer": "ipython3",
   "version": "3.11.3"
  }
 },
 "nbformat": 4,
 "nbformat_minor": 0
}
