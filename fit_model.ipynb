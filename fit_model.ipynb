{
 "cells": [
  {
   "cell_type": "code",
   "execution_count": 7,
   "metadata": {},
   "outputs": [
    {
     "name": "stdout",
     "output_type": "stream",
     "text": [
      "/users/home/jonasson/mambaforge/envs/tf-gpu/bin/python\n"
     ]
    }
   ],
   "source": [
    "import sys\n",
    "print(sys.executable)"
   ]
  },
  {
   "cell_type": "code",
   "execution_count": 8,
   "metadata": {},
   "outputs": [
    {
     "name": "stdout",
     "output_type": "stream",
     "text": [
      "~/mambaforge/envs/tf-gpu/bin/python\n",
      "# packages in environment at /users/home/jonasson/mambaforge/envs/tf-gpu:\n",
      "#\n",
      "# Name                    Version                   Build  Channel\n",
      "_libgcc_mutex             0.1                 conda_forge    conda-forge\n",
      "_openmp_mutex             4.5                       2_gnu    conda-forge\n",
      "abseil-cpp                20210324.2           h9c3ff4c_0    conda-forge\n",
      "absl-py                   0.15.0             pyhd8ed1ab_0    conda-forge\n",
      "affine                    2.4.0              pyhd8ed1ab_0    conda-forge\n",
      "aiohttp                   3.9.3            py39hd1e30aa_0    conda-forge\n",
      "aiosignal                 1.3.1              pyhd8ed1ab_0    conda-forge\n",
      "anyio                     4.1.0              pyhd8ed1ab_0    conda-forge\n",
      "argon2-cffi               23.1.0             pyhd8ed1ab_0    conda-forge\n",
      "argon2-cffi-bindings      21.2.0           py39hd1e30aa_4    conda-forge\n",
      "arrow                     1.3.0              pyhd8ed1ab_0    conda-forge\n",
      "asttokens                 2.4.1              pyhd8ed1ab_0    conda-forge\n",
      "astunparse                1.6.3              pyhd8ed1ab_0    conda-forge\n",
      "async-lru                 1.0.3              pyhd8ed1ab_0    conda-forge\n",
      "async-timeout             4.0.3              pyhd8ed1ab_0    conda-forge\n",
      "attrs                     23.2.0             pyh71513ae_0    conda-forge\n",
      "babel                     2.14.0             pyhd8ed1ab_0    conda-forge\n",
      "beautifulsoup4            4.12.3             pyha770c72_0    conda-forge\n",
      "bleach                    6.1.0              pyhd8ed1ab_0    conda-forge\n",
      "blinker                   1.7.0              pyhd8ed1ab_0    conda-forge\n",
      "boltons                   23.1.1             pyhd8ed1ab_0    conda-forge\n",
      "brotli-python             1.1.0            py39h3d6467e_1    conda-forge\n",
      "bzip2                     1.0.8                hd590300_5    conda-forge\n",
      "c-ares                    1.27.0               hd590300_0    conda-forge\n",
      "ca-certificates           2024.2.2             hbcca054_0    conda-forge\n",
      "cached-property           1.5.2                hd8ed1ab_1    conda-forge\n",
      "cached_property           1.5.2              pyha770c72_1    conda-forge\n",
      "cachetools                4.2.4              pyhd8ed1ab_0    conda-forge\n",
      "cairo                     1.16.0            h6cf1ce9_1008    conda-forge\n",
      "certifi                   2024.2.2           pyhd8ed1ab_0    conda-forge\n",
      "cffi                      1.16.0           py39h7a31438_0    conda-forge\n",
      "cfitsio                   3.470                hb418390_7    conda-forge\n",
      "charset-normalizer        3.3.2              pyhd8ed1ab_0    conda-forge\n",
      "click                     7.1.2              pyh9f0ad1d_0    conda-forge\n",
      "click-plugins             1.1.1                      py_0    conda-forge\n",
      "cligj                     0.7.2              pyhd8ed1ab_1    conda-forge\n",
      "colorama                  0.4.6              pyhd8ed1ab_0    conda-forge\n",
      "comm                      0.2.1              pyhd8ed1ab_0    conda-forge\n",
      "conda                     23.3.1           py39hf3d152e_0    conda-forge\n",
      "conda-package-handling    2.2.0              pyh38be061_0    conda-forge\n",
      "conda-package-streaming   0.9.0              pyhd8ed1ab_0    conda-forge\n",
      "cryptography              39.0.0           py39hd598818_0    conda-forge\n",
      "cuda-version              11.8                 h70ddcb2_2    conda-forge\n",
      "cudatoolkit               11.8.0              h4ba93d1_13    conda-forge\n",
      "cudnn                     8.8.0.121            hcdd5f01_4    conda-forge\n",
      "curl                      7.86.0               h7bff187_1    conda-forge\n",
      "debugpy                   1.8.1            py39h3d6467e_0    conda-forge\n",
      "decorator                 5.1.1              pyhd8ed1ab_0    conda-forge\n",
      "defusedxml                0.7.1              pyhd8ed1ab_0    conda-forge\n",
      "entrypoints               0.4                pyhd8ed1ab_0    conda-forge\n",
      "exceptiongroup            1.2.0              pyhd8ed1ab_2    conda-forge\n",
      "executing                 2.0.1              pyhd8ed1ab_0    conda-forge\n",
      "expat                     2.5.0                hcb278e6_1    conda-forge\n",
      "fmt                       9.1.0                h924138e_0    conda-forge\n",
      "fontconfig                2.14.2               h14ed4e7_0    conda-forge\n",
      "fqdn                      1.5.1              pyhd8ed1ab_0    conda-forge\n",
      "freetype                  2.12.1               h267a509_2    conda-forge\n",
      "freexl                    1.0.6                h166bdaf_1    conda-forge\n",
      "frozenlist                1.4.1            py39hd1e30aa_0    conda-forge\n",
      "gast                      0.4.0              pyh9f0ad1d_0    conda-forge\n",
      "gdal                      3.3.1            py39h409cc32_2    conda-forge\n",
      "geos                      3.9.1                h9c3ff4c_2    conda-forge\n",
      "geotiff                   1.6.0                h4f31c25_6    conda-forge\n",
      "gettext                   0.21.1               h27087fc_0    conda-forge\n",
      "giflib                    5.2.1                h0b41bf4_3    conda-forge\n",
      "google-auth               1.35.0             pyh6c4a22f_0    conda-forge\n",
      "google-auth-oauthlib      0.4.6              pyhd8ed1ab_0    conda-forge\n",
      "google-pasta              0.2.0              pyh8c360ce_0    conda-forge\n",
      "grpc-cpp                  1.39.1               h850795e_1    conda-forge\n",
      "grpcio                    1.39.0           py39hff7568b_0    conda-forge\n",
      "h11                       0.14.0             pyhd8ed1ab_0    conda-forge\n",
      "h2                        4.1.0              pyhd8ed1ab_0    conda-forge\n",
      "h5py                      3.1.0           nompi_py39h25020de_100    conda-forge\n",
      "hdf4                      4.2.15               h9772cbc_5    conda-forge\n",
      "hdf5                      1.10.6          nompi_h6a2412b_1114    conda-forge\n",
      "hpack                     4.0.0              pyh9f0ad1d_0    conda-forge\n",
      "httpcore                  1.0.4              pyhd8ed1ab_0    conda-forge\n",
      "httpx                     0.27.0             pyhd8ed1ab_0    conda-forge\n",
      "hyperframe                6.0.1              pyhd8ed1ab_0    conda-forge\n",
      "icu                       68.2                 h9c3ff4c_0    conda-forge\n",
      "idna                      3.6                pyhd8ed1ab_0    conda-forge\n",
      "importlib-metadata        7.0.1              pyha770c72_0    conda-forge\n",
      "importlib_metadata        7.0.1                hd8ed1ab_0    conda-forge\n",
      "importlib_resources       6.1.2              pyhd8ed1ab_0    conda-forge\n",
      "ipykernel                 6.29.3             pyhd33586a_0    conda-forge\n",
      "ipython                   8.18.1             pyh707e725_3    conda-forge\n",
      "isoduration               20.11.0            pyhd8ed1ab_0    conda-forge\n",
      "jedi                      0.19.1             pyhd8ed1ab_0    conda-forge\n",
      "jinja2                    3.1.3              pyhd8ed1ab_0    conda-forge\n",
      "joblib                    1.3.2              pyhd8ed1ab_0    conda-forge\n",
      "jpeg                      9e                   h0b41bf4_3    conda-forge\n",
      "json-c                    0.15                 h98cffda_0    conda-forge\n",
      "json5                     0.9.20             pyhd8ed1ab_0    conda-forge\n",
      "jsonpatch                 1.33               pyhd8ed1ab_0    conda-forge\n",
      "jsonpointer               2.4              py39hf3d152e_3    conda-forge\n",
      "jsonschema                4.21.1             pyhd8ed1ab_0    conda-forge\n",
      "jsonschema-specifications 2023.12.1          pyhd8ed1ab_0    conda-forge\n",
      "jsonschema-with-format-nongpl 4.21.1             pyhd8ed1ab_0    conda-forge\n",
      "jupyter-lsp               2.2.3              pyhd8ed1ab_0    conda-forge\n",
      "jupyter_client            8.6.0              pyhd8ed1ab_0    conda-forge\n",
      "jupyter_core              5.7.1            py39hf3d152e_0    conda-forge\n",
      "jupyter_events            0.9.0              pyhd8ed1ab_0    conda-forge\n",
      "jupyter_server            2.13.0             pyhd8ed1ab_0    conda-forge\n",
      "jupyter_server_terminals  0.5.2              pyhd8ed1ab_0    conda-forge\n",
      "jupyterlab                4.1.2              pyhd8ed1ab_0    conda-forge\n",
      "jupyterlab_pygments       0.3.0              pyhd8ed1ab_1    conda-forge\n",
      "jupyterlab_server         2.25.3             pyhd8ed1ab_0    conda-forge\n",
      "kealib                    1.4.14               hcc255d8_2    conda-forge\n",
      "keras                     2.6.0              pyhd8ed1ab_1    conda-forge\n",
      "keras-preprocessing       1.1.2              pyhd8ed1ab_0    conda-forge\n",
      "keyutils                  1.6.1                h166bdaf_0    conda-forge\n",
      "krb5                      1.19.3               h3790be6_0    conda-forge\n",
      "ld_impl_linux-64          2.40                 h41732ed_0    conda-forge\n",
      "lerc                      4.0.0                h27087fc_0    conda-forge\n",
      "libarchive                3.5.2                hccf745f_1    conda-forge\n",
      "libblas                   3.9.0           20_linux64_openblas    conda-forge\n",
      "libboost-headers          1.84.0               ha770c72_1    conda-forge\n",
      "libcblas                  3.9.0           20_linux64_openblas    conda-forge\n",
      "libcurl                   7.86.0               h7bff187_1    conda-forge\n",
      "libdap4                   3.20.6               hd7c4107_2    conda-forge\n",
      "libdeflate                1.14                 h166bdaf_0    conda-forge\n",
      "libedit                   3.1.20191231         he28a2e2_2    conda-forge\n",
      "libev                     4.33                 hd590300_2    conda-forge\n",
      "libexpat                  2.5.0                hcb278e6_1    conda-forge\n",
      "libffi                    3.4.2                h7f98852_5    conda-forge\n",
      "libgcc-ng                 13.2.0               h807b86a_5    conda-forge\n",
      "libgdal                   3.3.1                h07ae0cd_2    conda-forge\n",
      "libgfortran-ng            13.2.0               h69a702a_5    conda-forge\n",
      "libgfortran5              13.2.0               ha4646dd_5    conda-forge\n",
      "libglib                   2.78.4               h4648e47_1    conda-forge\n",
      "libgomp                   13.2.0               h807b86a_5    conda-forge\n",
      "libiconv                  1.17                 hd590300_2    conda-forge\n",
      "libkml                    1.3.0             h01aab08_1018    conda-forge\n",
      "liblapack                 3.9.0           20_linux64_openblas    conda-forge\n",
      "libmamba                  1.1.0                h2c5f835_2    conda-forge\n",
      "libmambapy                1.1.0            py39he50db72_2    conda-forge\n",
      "libnetcdf                 4.8.1           nompi_hcd642e3_100    conda-forge\n",
      "libnghttp2                1.51.0               hdcd2b5c_0    conda-forge\n",
      "libnsl                    2.0.1                hd590300_0    conda-forge\n",
      "libopenblas               0.3.25          pthreads_h413a1c8_0    conda-forge\n",
      "libpng                    1.6.43               h2797004_0    conda-forge\n",
      "libpq                     13.5                 hd57d9b9_1    conda-forge\n",
      "libprotobuf               3.16.0               h780b84a_0    conda-forge\n",
      "librttopo                 1.1.0                h1185371_6    conda-forge\n",
      "libsodium                 1.0.18               h36c2ea0_1    conda-forge\n",
      "libsolv                   0.7.28               hfc55251_0    conda-forge\n",
      "libspatialite             5.0.1                h8694cbe_6    conda-forge\n",
      "libsqlite                 3.45.1               h2797004_0    conda-forge\n",
      "libssh2                   1.10.0               haa6b8db_3    conda-forge\n",
      "libstdcxx-ng              13.2.0               h7e041cc_5    conda-forge\n",
      "libtiff                   4.4.0                h82bc61c_5    conda-forge\n",
      "libuuid                   2.38.1               h0b41bf4_0    conda-forge\n",
      "libwebp-base              1.3.2                hd590300_0    conda-forge\n",
      "libxcb                    1.16                 hd590300_0    conda-forge\n",
      "libxml2                   2.9.12               h72842e0_0    conda-forge\n",
      "libzip                    1.9.2                hc869a4a_1    conda-forge\n",
      "libzlib                   1.2.13               hd590300_5    conda-forge\n",
      "lz4-c                     1.9.3                h9c3ff4c_1    conda-forge\n",
      "lzo                       2.10              h516909a_1000    conda-forge\n",
      "mamba                     1.1.0            py39hfa8f2c8_2    conda-forge\n",
      "markdown                  3.5.2              pyhd8ed1ab_0    conda-forge\n",
      "markupsafe                2.1.5            py39hd1e30aa_0    conda-forge\n",
      "matplotlib-inline         0.1.6              pyhd8ed1ab_0    conda-forge\n",
      "mistune                   3.0.2              pyhd8ed1ab_0    conda-forge\n",
      "multidict                 6.0.5            py39hd1e30aa_0    conda-forge\n",
      "nbclient                  0.8.0              pyhd8ed1ab_0    conda-forge\n",
      "nbconvert-core            7.16.2             pyhd8ed1ab_0    conda-forge\n",
      "nbformat                  5.9.2              pyhd8ed1ab_0    conda-forge\n",
      "nccl                      2.20.3.1             h6103f9b_0    conda-forge\n",
      "ncurses                   6.4                  h59595ed_2    conda-forge\n",
      "nest-asyncio              1.6.0              pyhd8ed1ab_0    conda-forge\n",
      "notebook-shim             0.2.4              pyhd8ed1ab_0    conda-forge\n",
      "numpy                     1.19.5           py39hd249d9e_3    conda-forge\n",
      "oauthlib                  3.2.2              pyhd8ed1ab_0    conda-forge\n",
      "openjpeg                  2.5.0                h7d73246_1    conda-forge\n",
      "openssl                   1.1.1w               hd590300_0    conda-forge\n",
      "opt_einsum                3.3.0              pyhc1e730c_2    conda-forge\n",
      "overrides                 7.7.0              pyhd8ed1ab_0    conda-forge\n",
      "packaging                 23.2               pyhd8ed1ab_0    conda-forge\n",
      "pandas                    1.4.4            py39h1832856_0    conda-forge\n",
      "pandocfilters             1.5.0              pyhd8ed1ab_0    conda-forge\n",
      "parso                     0.8.3              pyhd8ed1ab_0    conda-forge\n",
      "pcre                      8.45                 h9c3ff4c_0    conda-forge\n",
      "pcre2                     10.42                hcad00b1_0    conda-forge\n",
      "pexpect                   4.9.0              pyhd8ed1ab_0    conda-forge\n",
      "pickleshare               0.7.5                   py_1003    conda-forge\n",
      "pip                       24.0               pyhd8ed1ab_0    conda-forge\n",
      "pixman                    0.43.2               h59595ed_0    conda-forge\n",
      "pkgutil-resolve-name      1.3.10             pyhd8ed1ab_1    conda-forge\n",
      "platformdirs              4.2.0              pyhd8ed1ab_0    conda-forge\n",
      "pluggy                    1.4.0              pyhd8ed1ab_0    conda-forge\n",
      "poppler                   21.03.0              h93df280_0    conda-forge\n",
      "poppler-data              0.4.12               hd8ed1ab_0    conda-forge\n",
      "postgresql                13.5                 h2510834_1    conda-forge\n",
      "proj                      8.0.1                h277dcde_0    conda-forge\n",
      "prometheus_client         0.20.0             pyhd8ed1ab_0    conda-forge\n",
      "prompt-toolkit            3.0.42             pyha770c72_0    conda-forge\n",
      "protobuf                  3.16.0           py39he80948d_0    conda-forge\n",
      "psutil                    5.9.8            py39hd1e30aa_0    conda-forge\n",
      "pthread-stubs             0.4               h36c2ea0_1001    conda-forge\n",
      "ptyprocess                0.7.0              pyhd3deb0d_0    conda-forge\n",
      "pure_eval                 0.2.2              pyhd8ed1ab_0    conda-forge\n",
      "pyasn1                    0.5.1              pyhd8ed1ab_0    conda-forge\n",
      "pyasn1-modules            0.3.0              pyhd8ed1ab_0    conda-forge\n",
      "pybind11-abi              4                    hd8ed1ab_3    conda-forge\n",
      "pycosat                   0.6.6            py39hd1e30aa_0    conda-forge\n",
      "pycparser                 2.21               pyhd8ed1ab_0    conda-forge\n",
      "pygments                  2.17.2             pyhd8ed1ab_0    conda-forge\n",
      "pyjwt                     2.8.0              pyhd8ed1ab_1    conda-forge\n",
      "pyopenssl                 23.2.0             pyhd8ed1ab_1    conda-forge\n",
      "pyparsing                 3.1.1              pyhd8ed1ab_0    conda-forge\n",
      "pysocks                   1.7.1              pyha2e5f31_6    conda-forge\n",
      "python                    3.9.15          h47a2c10_0_cpython    conda-forge\n",
      "python-dateutil           2.9.0              pyhd8ed1ab_0    conda-forge\n",
      "python-fastjsonschema     2.19.1             pyhd8ed1ab_0    conda-forge\n",
      "python-flatbuffers        1.12               pyhd8ed1ab_1    conda-forge\n",
      "python-json-logger        2.0.7              pyhd8ed1ab_0    conda-forge\n",
      "python_abi                3.9                      4_cp39    conda-forge\n",
      "pytz                      2024.1             pyhd8ed1ab_0    conda-forge\n",
      "pyu2f                     0.1.5              pyhd8ed1ab_0    conda-forge\n",
      "pyyaml                    6.0.1            py39hd1e30aa_1    conda-forge\n",
      "pyzmq                     25.1.2           py39h8c080ef_0    conda-forge\n",
      "rasterio                  1.3.9                    pypi_0    pypi\n",
      "re2                       2021.09.01           h9c3ff4c_0    conda-forge\n",
      "readline                  8.2                  h8228510_1    conda-forge\n",
      "referencing               0.33.0             pyhd8ed1ab_0    conda-forge\n",
      "reproc                    14.2.4.post0         hd590300_1    conda-forge\n",
      "reproc-cpp                14.2.4.post0         h59595ed_1    conda-forge\n",
      "requests                  2.31.0             pyhd8ed1ab_0    conda-forge\n",
      "requests-oauthlib         1.3.1              pyhd8ed1ab_0    conda-forge\n",
      "rfc3339-validator         0.1.4              pyhd8ed1ab_0    conda-forge\n",
      "rfc3986-validator         0.1.1              pyh9f0ad1d_0    conda-forge\n",
      "rpds-py                   0.18.0           py39h9fdd4d6_0    conda-forge\n",
      "rsa                       4.9                pyhd8ed1ab_0    conda-forge\n",
      "ruamel.yaml               0.17.40          py39hd1e30aa_0    conda-forge\n",
      "ruamel.yaml.clib          0.2.8            py39hd1e30aa_0    conda-forge\n",
      "scikit-learn              1.1.2            py39he5e8d7e_0    conda-forge\n",
      "scipy                     1.9.1            py39h8ba3f38_0    conda-forge\n",
      "send2trash                1.8.2              pyh41d4057_0    conda-forge\n",
      "setuptools                69.1.1             pyhd8ed1ab_0    conda-forge\n",
      "six                       1.15.0             pyh9f0ad1d_0    conda-forge\n",
      "snappy                    1.1.10               h9fff704_0    conda-forge\n",
      "sniffio                   1.3.1              pyhd8ed1ab_0    conda-forge\n",
      "snuggs                    1.4.7                      py_0    conda-forge\n",
      "soupsieve                 2.5                pyhd8ed1ab_1    conda-forge\n",
      "sqlite                    3.45.1               h2c6b66d_0    conda-forge\n",
      "stack_data                0.6.2              pyhd8ed1ab_0    conda-forge\n",
      "tensorboard               2.6.0              pyhd8ed1ab_1    conda-forge\n",
      "tensorboard-data-server   0.6.1            py39hd97740a_4    conda-forge\n",
      "tensorboard-plugin-wit    1.8.1              pyhd8ed1ab_0    conda-forge\n",
      "tensorflow                2.6.0           cuda112py39h9dc3950_2    conda-forge\n",
      "tensorflow-base           2.6.0           cuda112py39h0b4cdfd_2    conda-forge\n",
      "tensorflow-estimator      2.6.0           cuda112py39heacc632_2    conda-forge\n",
      "tensorflow-gpu            2.6.0           cuda112py39h0bbbad9_2    conda-forge\n",
      "termcolor                 1.1.0              pyhd8ed1ab_3    conda-forge\n",
      "terminado                 0.18.0             pyh0d859eb_0    conda-forge\n",
      "threadpoolctl             3.3.0              pyhc1e730c_0    conda-forge\n",
      "tiledb                    2.3.4                he87e0bf_0    conda-forge\n",
      "tinycss2                  1.2.1              pyhd8ed1ab_0    conda-forge\n",
      "tk                        8.6.13          noxft_h4845f30_101    conda-forge\n",
      "tomli                     2.0.1              pyhd8ed1ab_0    conda-forge\n",
      "toolz                     0.12.1             pyhd8ed1ab_0    conda-forge\n",
      "tornado                   6.4              py39hd1e30aa_0    conda-forge\n",
      "tqdm                      4.66.2             pyhd8ed1ab_0    conda-forge\n",
      "traitlets                 5.14.1             pyhd8ed1ab_0    conda-forge\n",
      "types-python-dateutil     2.8.19.20240106    pyhd8ed1ab_0    conda-forge\n",
      "typing-extensions         3.7.4.3                       0    conda-forge\n",
      "typing_extensions         3.7.4.3                    py_0    conda-forge\n",
      "typing_utils              0.1.0              pyhd8ed1ab_0    conda-forge\n",
      "tzcode                    2024a                h3f72095_0    conda-forge\n",
      "tzdata                    2024a                h0c530f3_0    conda-forge\n",
      "uri-template              1.3.0              pyhd8ed1ab_0    conda-forge\n",
      "uriparser                 0.9.7                h59595ed_1    conda-forge\n",
      "urllib3                   2.2.1              pyhd8ed1ab_0    conda-forge\n",
      "wcwidth                   0.2.13             pyhd8ed1ab_0    conda-forge\n",
      "webcolors                 1.13               pyhd8ed1ab_0    conda-forge\n",
      "webencodings              0.5.1              pyhd8ed1ab_2    conda-forge\n",
      "websocket-client          1.7.0              pyhd8ed1ab_0    conda-forge\n",
      "werkzeug                  3.0.1              pyhd8ed1ab_0    conda-forge\n",
      "wheel                     0.42.0             pyhd8ed1ab_0    conda-forge\n",
      "wrapt                     1.12.1           py39h3811e60_3    conda-forge\n",
      "xerces-c                  3.2.3                h9d8b166_3    conda-forge\n",
      "xorg-kbproto              1.0.7             h7f98852_1002    conda-forge\n",
      "xorg-libice               1.1.1                hd590300_0    conda-forge\n",
      "xorg-libsm                1.2.4                h7391055_0    conda-forge\n",
      "xorg-libx11               1.7.2                h7f98852_0    conda-forge\n",
      "xorg-libxau               1.0.11               hd590300_0    conda-forge\n",
      "xorg-libxdmcp             1.1.3                h7f98852_0    conda-forge\n",
      "xorg-libxext              1.3.4                h0b41bf4_2    conda-forge\n",
      "xorg-libxrender           0.9.10            h7f98852_1003    conda-forge\n",
      "xorg-renderproto          0.11.1            h7f98852_1002    conda-forge\n",
      "xorg-xextproto            7.3.0             h0b41bf4_1003    conda-forge\n",
      "xorg-xproto               7.0.31            h7f98852_1007    conda-forge\n",
      "xz                        5.4.6                h5eee18b_0  \n",
      "yaml                      0.2.5                h7f98852_2    conda-forge\n",
      "yaml-cpp                  0.7.0                h59595ed_3    conda-forge\n",
      "yarl                      1.9.4            py39hd1e30aa_0    conda-forge\n",
      "zeromq                    4.3.5                h59595ed_1    conda-forge\n",
      "zipp                      3.17.0             pyhd8ed1ab_0    conda-forge\n",
      "zlib                      1.2.13               hd590300_5    conda-forge\n",
      "zstandard                 0.22.0           py39h6e5214e_0    conda-forge\n",
      "zstd                      1.5.5                hfc55251_0    conda-forge\n"
     ]
    }
   ],
   "source": [
    "!which python\n",
    "!conda list\n",
    "import tensorflow"
   ]
  },
  {
   "cell_type": "code",
   "execution_count": 9,
   "metadata": {
    "colab": {
     "base_uri": "https://localhost:8080/"
    },
    "executionInfo": {
     "elapsed": 28972,
     "status": "ok",
     "timestamp": 1709202899612,
     "user": {
      "displayName": "Kristján Jónasson",
      "userId": "00508561415880381228"
     },
     "user_tz": 0
    },
    "id": "AG7qcLskxTgH",
    "outputId": "af95d01b-6af9-4942-b33d-055fc21d3102"
   },
   "outputs": [],
   "source": [
    "import os\n",
    "try: # Check platform (Colab or Jupyter)\n",
    "    from google.colab import drive\n",
    "    drive.mount('/content/drive')\n",
    "    path = \"/content/drive/My Drive/joklar/\"\n",
    "except:\n",
    "    path = os.getcwd() + \"/\""
   ]
  },
  {
   "cell_type": "code",
   "execution_count": 10,
   "metadata": {
    "executionInfo": {
     "elapsed": 16172,
     "status": "ok",
     "timestamp": 1709202915781,
     "user": {
      "displayName": "Kristján Jónasson",
      "userId": "00508561415880381228"
     },
     "user_tz": 0
    },
    "id": "4l99LOD_iBsC"
   },
   "outputs": [],
   "source": [
    "import numpy as np, os, sys, time, pandas as pd, tensorflow as tf, random\n",
    "start_time = time.time()\n",
    "import keras\n",
    "from tensorflow.keras.optimizers import Adam\n",
    "from sklearn.model_selection import train_test_split\n",
    "from tensorflow.keras.callbacks import EarlyStopping, ModelCheckpoint\n",
    "from tensorflow.keras.callbacks import ReduceLROnPlateau\n",
    "sys.path.append(path + \"src\")\n",
    "from util.util import install_import\n",
    "from numpy import flatnonzero as find\n",
    "from osgeo import gdal"
   ]
  },
  {
   "cell_type": "code",
   "execution_count": 11,
   "metadata": {
    "executionInfo": {
     "elapsed": 5,
     "status": "ok",
     "timestamp": 1709202919663,
     "user": {
      "displayName": "Kristján Jónasson",
      "userId": "00508561415880381228"
     },
     "user_tz": 0
    },
    "id": "PiMCe9HabXfW"
   },
   "outputs": [],
   "source": [
    "# Define model type and data to use\n",
    "modeltype = \"unet\"\n",
    "augmentation = False\n",
    "dataname = \"lang\"\n",
    "model_path = path + \"results/\" + modeltype + \"/\"\n",
    "data_path = path + \"data/\" + dataname + \"/\"\n",
    "os.makedirs(model_path, exist_ok=True)\n",
    "os.chdir(model_path)"
   ]
  },
  {
   "cell_type": "code",
   "execution_count": 12,
   "metadata": {
    "executionInfo": {
     "elapsed": 393,
     "status": "ok",
     "timestamp": 1709202991081,
     "user": {
      "displayName": "Kristján Jónasson",
      "userId": "00508561415880381228"
     },
     "user_tz": 0
    },
    "id": "DNKN0qujNrBa"
   },
   "outputs": [],
   "source": [
    "def load_images(nfiles = \"all\"):\n",
    "  # Load individual image and mask files, determine glacier border tiles\n",
    "  (img, mask, row, col) = np.load(data_path + \"lang.npz\").values()\n",
    "  n_channels = img.shape[-1]\n",
    "  if nfiles == \"all\":\n",
    "    nfiles = len(mask)\n",
    "  return img, mask, row, col"
   ]
  },
  {
   "cell_type": "code",
   "execution_count": 13,
   "metadata": {
    "executionInfo": {
     "elapsed": 3,
     "status": "ok",
     "timestamp": 1709202921984,
     "user": {
      "displayName": "Kristján Jónasson",
      "userId": "00508561415880381228"
     },
     "user_tz": 0
    },
    "id": "mkSjDX46QN2N"
   },
   "outputs": [],
   "source": [
    "def get_border_indices(img, mask):\n",
    "  # Load individual image and mask files, determine glacier border tiles\n",
    "  ntiles = len(img)\n",
    "  glacier_fraction = np.zeros(ntiles)\n",
    "  meta = []\n",
    "  for i in range(ntiles):\n",
    "    glacier_fraction[i] = np.sum(mask[i] != 0) / mask[i].size\n",
    "  is_on_border = [0.01 < g < 0.99 for g in glacier_fraction]\n",
    "  count = sum(is_on_border)\n",
    "  border_indices = find(is_on_border)\n",
    "  return border_indices"
   ]
  },
  {
   "cell_type": "code",
   "execution_count": 14,
   "metadata": {
    "executionInfo": {
     "elapsed": 664,
     "status": "ok",
     "timestamp": 1709202922645,
     "user": {
      "displayName": "Kristján Jónasson",
      "userId": "00508561415880381228"
     },
     "user_tz": 0
    },
    "id": "m5JIilbk2SAO"
   },
   "outputs": [],
   "source": [
    "# Import project-specific packages\n",
    "\n",
    "# NOTES\n",
    "# deeplab-v3+ is copied more or less directly from the github repository\n",
    "#    github.com/david8862/tf-keras-deeplabv3p-model-set\n",
    "# (the original files are in the subdirectory from_github, cf differences.txt)\n",
    "#\n",
    "# unet is copied from...\n",
    "\n",
    "if modeltype == \"unet\":\n",
    "    from models.unet import get_unet\n",
    "else: # deeplab\n",
    "    install_import(\"keras_applications\")\n",
    "    from models.deeplabv3p import model"
   ]
  },
  {
   "cell_type": "code",
   "execution_count": 15,
   "metadata": {
    "executionInfo": {
     "elapsed": 3,
     "status": "ok",
     "timestamp": 1709202922645,
     "user": {
      "displayName": "Kristján Jónasson",
      "userId": "00508561415880381228"
     },
     "user_tz": 0
    },
    "id": "SBN1LvNWDtTx"
   },
   "outputs": [],
   "source": [
    "# Read image data and data splits and define X and Y for training and test\n",
    "# %%time\n",
    "# npzfile = data_path + \"images.npz\"\n",
    "# (img, mask, is_on_border, train, val, test) = np.load(npzfile).values()"
   ]
  },
  {
   "cell_type": "code",
   "execution_count": 18,
   "metadata": {
    "executionInfo": {
     "elapsed": 3,
     "status": "ok",
     "timestamp": 1709202922646,
     "user": {
      "displayName": "Kristján Jónasson",
      "userId": "00508561415880381228"
     },
     "user_tz": 0
    },
    "id": "VC_fLe17OvGG"
   },
   "outputs": [],
   "source": [
    "def create_model(modeltype):\n",
    "    if modeltype == \"unet\":\n",
    "      input_img = keras.layers.Input((256, 256, 13), name='img')\n",
    "      Adam_params = {\"learning_rate\":1e-4, \"clipnorm\":1.0}\n",
    "      model = get_unet(input_img, n_filters=64, dropout=0.2, batchnorm=True)\n",
    "\n",
    "    else: # deeplab\n",
    "      Adam_params = {\"learning_rate\":1e-4}\n",
    "      get_deeplab = model.get_deeplabv3p_model\n",
    "      model = get_deeplab(model_type='resnet50', num_classes=1,\n",
    "                          model_input_shape=(256,256),\n",
    "                          output_stride=16,\n",
    "                          freeze_level=0,\n",
    "                          weights_path=None,\n",
    "                          training=True,\n",
    "                          use_subpixel=False)\n",
    "\n",
    "    model.compile(optimizer = Adam(**Adam_params),\n",
    "                  loss=\"binary_crossentropy\",\n",
    "                  metrics=[\"accuracy\"])\n",
    "    model.save('model_first.keras')\n",
    "    return model\n",
    "    # NOTE: Saving weights only gives a file just as big as saving the whole model"
   ]
  },
  {
   "cell_type": "code",
   "execution_count": 21,
   "metadata": {
    "executionInfo": {
     "elapsed": 801,
     "status": "ok",
     "timestamp": 1709202931528,
     "user": {
      "displayName": "Kristján Jónasson",
      "userId": "00508561415880381228"
     },
     "user_tz": 0
    },
    "id": "YPvmbfDPTEvm"
   },
   "outputs": [],
   "source": [
    "def define_callbacks(modeltype):\n",
    "    if modeltype == \"unet\":\n",
    "      early_stopping = EarlyStopping(patience=15, verbose=1)\n",
    "      reduce_LR_on_plateau = ReduceLROnPlateau(factor=0.1,\n",
    "                                              patience=7,\n",
    "                                              min_lr=0.00001,\n",
    "                                              verbose=1),\n",
    "\n",
    "    else: # deeplab\n",
    "      early_stopping = EarlyStopping(min_delta=0.01,\n",
    "                                    patience=40,\n",
    "                                    verbose=1,\n",
    "                                    monitor='val_loss',\n",
    "                                    restore_best_weights=True)\n",
    "      reduce_LR_on_plateau = ReduceLROnPlateau(factor=0.1,\n",
    "                                              patience=10,\n",
    "                                              min_lr=1e-12,\n",
    "                                              verbose=1)\n",
    "    checkpoint_best = ModelCheckpoint('model_best.keras',\n",
    "                                      verbose=1,\n",
    "                                      monitor=\"val_loss\",\n",
    "                                      save_weights_only=True,\n",
    "                                      save_best_only=True)\n",
    "    checkpoint_last = ModelCheckpoint('model_last.keras',\n",
    "                                      save_weights_only=True)\n",
    "    callbacks = [\n",
    "      EarlyStopping(patience=60, verbose=1),\n",
    "      ReduceLROnPlateau(factor=0.3, patience=10, min_lr=0.00001, verbose=1),\n",
    "      checkpoint_best,\n",
    "      checkpoint_last,\n",
    "    ]\n",
    "    return callbacks"
   ]
  },
  {
   "cell_type": "code",
   "execution_count": 22,
   "metadata": {
    "executionInfo": {
     "elapsed": 2,
     "status": "ok",
     "timestamp": 1709202933884,
     "user": {
      "displayName": "Kristján Jónasson",
      "userId": "00508561415880381228"
     },
     "user_tz": 0
    },
    "id": "gmP8bV8i6b1C"
   },
   "outputs": [],
   "source": [
    "def train_val_test_split(border_indices):\n",
    "  # Define data split (training, validation, and test sets)\n",
    "  seed = 42\n",
    "  tf_seed = 42\n",
    "  random.seed(seed)\n",
    "  np.random.seed(seed)\n",
    "  tf.random.set_seed(tf_seed)\n",
    "  test_size = 0.15\n",
    "  train_size = 0.18  # or 0.15/(1 - test_size)\n",
    "  temp, test = train_test_split(border_indices, test_size = test_size, random_state=seed)\n",
    "  train, val = train_test_split(temp, test_size = train_size, random_state=seed)\n",
    "  return train, val, test"
   ]
  },
  {
   "cell_type": "code",
   "execution_count": 23,
   "metadata": {
    "executionInfo": {
     "elapsed": 3,
     "status": "ok",
     "timestamp": 1709202937303,
     "user": {
      "displayName": "Kristján Jónasson",
      "userId": "00508561415880381228"
     },
     "user_tz": 0
    },
    "id": "O5eu1r0pKJW8"
   },
   "outputs": [],
   "source": [
    "def albumentations_generator(img, mask, train):\n",
    "  # Implement data augmentation with the albumentations package\n",
    "  augmentation = {\n",
    "      \"random_gamma_probability\": 0.5,\n",
    "      \"random_gamma_gamma_limit\": [80, 120],\n",
    "      \"flipud_probability\": 0.5,\n",
    "      \"fliplr_probability\": 0.5,\n",
    "      \"rotate90_probability\": 0.5,\n",
    "      \"random_crop_probability\": 0.5,\n",
    "      \"random_crop_height\": 256,\n",
    "      \"random_crop_width\": 256,\n",
    "      \"random_crop_scale_x\": 0.5,\n",
    "      \"random_crop_scale_y\": 0.5\n",
    "  }\n",
    "  from util.generator import AugmentDataGenerator\n",
    "  train_gen = AugmentDataGenerator(img[train], mask[train], augmentation)\n",
    "  return train_gen"
   ]
  },
  {
   "cell_type": "code",
   "execution_count": 24,
   "metadata": {
    "colab": {
     "base_uri": "https://localhost:8080/",
     "height": 35
    },
    "executionInfo": {
     "elapsed": 7,
     "status": "ok",
     "timestamp": 1709202966486,
     "user": {
      "displayName": "Kristján Jónasson",
      "userId": "00508561415880381228"
     },
     "user_tz": 0
    },
    "id": "_gy7aaUBb2WF",
    "outputId": "56654a4b-f0fb-4f48-84aa-2d4854e4fe30"
   },
   "outputs": [
    {
     "data": {
      "text/plain": [
       "'/users/home/jonasson/joklar/data/lang/'"
      ]
     },
     "execution_count": 24,
     "metadata": {},
     "output_type": "execute_result"
    }
   ],
   "source": [
    "data_path"
   ]
  },
  {
   "cell_type": "code",
   "execution_count": 25,
   "metadata": {
    "colab": {
     "base_uri": "https://localhost:8080/"
    },
    "executionInfo": {
     "elapsed": 21651,
     "status": "ok",
     "timestamp": 1709203080751,
     "user": {
      "displayName": "Kristján Jónasson",
      "userId": "00508561415880381228"
     },
     "user_tz": 0
    },
    "id": "B6GNRzUzmlus",
    "outputId": "ec5a0a96-212e-4905-8c56-d5393f55cbbc"
   },
   "outputs": [
    {
     "name": "stdout",
     "output_type": "stream",
     "text": [
      "13 channels, 197 tiles, 105 on border, datatype: float64\n"
     ]
    }
   ],
   "source": [
    "(image, mask, row, col) = load_images()\n",
    "dtype = image.dtype\n",
    "ntile = len(image)\n",
    "nchan = image.shape[-1]\n",
    "border_indices = get_border_indices(image, mask)\n",
    "nborder = len(border_indices)\n",
    "print(f\"{nchan} channels, {ntile} tiles, {nborder} on border, datatype: {dtype}\")"
   ]
  },
  {
   "cell_type": "code",
   "execution_count": 26,
   "metadata": {
    "executionInfo": {
     "elapsed": 10693,
     "status": "ok",
     "timestamp": 1709203095967,
     "user": {
      "displayName": "Kristján Jónasson",
      "userId": "00508561415880381228"
     },
     "user_tz": 0
    },
    "id": "N5O0dcbovMpX"
   },
   "outputs": [
    {
     "name": "stderr",
     "output_type": "stream",
     "text": [
      "2024-03-04 22:34:27.708314: I tensorflow/core/platform/cpu_feature_guard.cc:142] This TensorFlow binary is optimized with oneAPI Deep Neural Network Library (oneDNN) to use the following CPU instructions in performance-critical operations:  SSE4.1 SSE4.2 AVX AVX2 AVX512F FMA\n",
      "To enable them in other operations, rebuild TensorFlow with the appropriate compiler flags.\n",
      "2024-03-04 22:34:28.129085: I tensorflow/core/common_runtime/gpu/gpu_device.cc:1510] Created device /job:localhost/replica:0/task:0/device:GPU:0 with 38375 MB memory:  -> device: 0, name: NVIDIA A100-PCIE-40GB, pci bus id: 0000:65:00.0, compute capability: 8.0\n",
      "2024-03-04 22:34:28.132426: I tensorflow/core/common_runtime/gpu/gpu_device.cc:1510] Created device /job:localhost/replica:0/task:0/device:GPU:1 with 38375 MB memory:  -> device: 1, name: NVIDIA A100-PCIE-40GB, pci bus id: 0000:b1:00.0, compute capability: 8.0\n"
     ]
    }
   ],
   "source": [
    "(train, val, test) = train_val_test_split(border_indices)\n",
    "if augmentation:\n",
    "  data_input = (albumentations_generator(image, mask, train),)\n",
    "else:\n",
    "  data_input = (image[train], mask[train])\n",
    "model = create_model(modeltype)\n",
    "callbacks = define_callbacks(modeltype)"
   ]
  },
  {
   "cell_type": "code",
   "execution_count": null,
   "metadata": {
    "colab": {
     "base_uri": "https://localhost:8080/"
    },
    "executionInfo": {
     "elapsed": 88948,
     "status": "ok",
     "timestamp": 1709204410665,
     "user": {
      "displayName": "Kristján Jónasson",
      "userId": "00508561415880381228"
     },
     "user_tz": 0
    },
    "id": "hlaefjAmd1uB",
    "outputId": "0335b4e1-b9a0-4d20-c1bd-df1d57f9860a"
   },
   "outputs": [
    {
     "name": "stdout",
     "output_type": "stream",
     "text": [
      "Epoch 1/60\n",
      "9/9 [==============================] - 2s 98ms/step - loss: 0.3931 - accuracy: 0.8732 - val_loss: 0.6663 - val_accuracy: 0.4582\n",
      "\n",
      "Epoch 00001: val_loss did not improve from 0.36801\n",
      "Epoch 2/60\n",
      "9/9 [==============================] - 1s 64ms/step - loss: 0.1944 - accuracy: 0.9443 - val_loss: 0.7879 - val_accuracy: 0.4583\n",
      "\n",
      "Epoch 00002: val_loss did not improve from 0.36801\n",
      "Epoch 3/60\n",
      "9/9 [==============================] - 1s 64ms/step - loss: 0.1621 - accuracy: 0.9525 - val_loss: 1.1528 - val_accuracy: 0.4582\n",
      "\n",
      "Epoch 00003: val_loss did not improve from 0.36801\n",
      "Epoch 4/60\n",
      "9/9 [==============================] - 1s 64ms/step - loss: 0.1214 - accuracy: 0.9622 - val_loss: 1.1920 - val_accuracy: 0.4582\n",
      "\n",
      "Epoch 00004: val_loss did not improve from 0.36801\n",
      "Epoch 5/60\n",
      "9/9 [==============================] - 1s 64ms/step - loss: 0.1109 - accuracy: 0.9673 - val_loss: 1.4203 - val_accuracy: 0.4582\n",
      "\n",
      "Epoch 00005: val_loss did not improve from 0.36801\n",
      "Epoch 6/60\n",
      "9/9 [==============================] - 1s 64ms/step - loss: 0.1482 - accuracy: 0.9469 - val_loss: 1.5768 - val_accuracy: 0.4582\n",
      "\n",
      "Epoch 00006: val_loss did not improve from 0.36801\n",
      "Epoch 7/60\n",
      "9/9 [==============================] - 1s 64ms/step - loss: 0.1237 - accuracy: 0.9641 - val_loss: 0.8758 - val_accuracy: 0.4582\n",
      "\n",
      "Epoch 00007: val_loss did not improve from 0.36801\n",
      "Epoch 8/60\n",
      "9/9 [==============================] - 1s 64ms/step - loss: 0.1004 - accuracy: 0.9695 - val_loss: 0.8361 - val_accuracy: 0.4582\n",
      "\n",
      "Epoch 00008: val_loss did not improve from 0.36801\n",
      "Epoch 9/60\n",
      "9/9 [==============================] - 1s 64ms/step - loss: 0.0998 - accuracy: 0.9698 - val_loss: 0.9310 - val_accuracy: 0.4582\n",
      "\n",
      "Epoch 00009: val_loss did not improve from 0.36801\n",
      "Epoch 10/60\n",
      "9/9 [==============================] - 1s 64ms/step - loss: 0.0815 - accuracy: 0.9785 - val_loss: 0.7715 - val_accuracy: 0.4582\n",
      "\n",
      "Epoch 00010: val_loss did not improve from 0.36801\n",
      "Epoch 11/60\n",
      "9/9 [==============================] - 1s 64ms/step - loss: 0.0798 - accuracy: 0.9788 - val_loss: 0.8229 - val_accuracy: 0.4582\n",
      "\n",
      "Epoch 00011: ReduceLROnPlateau reducing learning rate to 2.9999999242136255e-05.\n",
      "\n",
      "Epoch 00011: val_loss did not improve from 0.36801\n",
      "Epoch 12/60\n",
      "9/9 [==============================] - 1s 64ms/step - loss: 0.0766 - accuracy: 0.9788 - val_loss: 0.8217 - val_accuracy: 0.4582\n",
      "\n",
      "Epoch 00012: val_loss did not improve from 0.36801\n",
      "Epoch 13/60\n",
      "9/9 [==============================] - 1s 65ms/step - loss: 0.1045 - accuracy: 0.9728 - val_loss: 0.7696 - val_accuracy: 0.4582\n",
      "\n",
      "Epoch 00013: val_loss did not improve from 0.36801\n",
      "Epoch 14/60\n",
      "9/9 [==============================] - 1s 64ms/step - loss: 0.1004 - accuracy: 0.9704 - val_loss: 0.6447 - val_accuracy: 0.4602\n",
      "\n",
      "Epoch 00014: val_loss did not improve from 0.36801\n",
      "Epoch 15/60\n",
      "9/9 [==============================] - 1s 64ms/step - loss: 0.0907 - accuracy: 0.9711 - val_loss: 0.6223 - val_accuracy: 0.4849\n",
      "\n",
      "Epoch 00015: val_loss did not improve from 0.36801\n",
      "Epoch 16/60\n",
      "9/9 [==============================] - 1s 64ms/step - loss: 0.0707 - accuracy: 0.9803 - val_loss: 0.6258 - val_accuracy: 0.4848\n",
      "\n",
      "Epoch 00016: val_loss did not improve from 0.36801\n",
      "Epoch 17/60\n",
      "9/9 [==============================] - 1s 64ms/step - loss: 0.1014 - accuracy: 0.9736 - val_loss: 0.5256 - val_accuracy: 0.5706\n",
      "\n",
      "Epoch 00017: val_loss did not improve from 0.36801\n",
      "Epoch 18/60\n",
      "9/9 [==============================] - 1s 64ms/step - loss: 0.0948 - accuracy: 0.9745 - val_loss: 0.4164 - val_accuracy: 0.8786\n",
      "\n",
      "Epoch 00018: val_loss did not improve from 0.36801\n",
      "Epoch 19/60\n",
      "9/9 [==============================] - 1s 65ms/step - loss: 0.0696 - accuracy: 0.9809 - val_loss: 0.3876 - val_accuracy: 0.8960\n",
      "\n",
      "Epoch 00019: val_loss did not improve from 0.36801\n",
      "Epoch 20/60\n",
      "9/9 [==============================] - 1s 64ms/step - loss: 0.0818 - accuracy: 0.9791 - val_loss: 0.3682 - val_accuracy: 0.9047\n",
      "\n",
      "Epoch 00020: val_loss did not improve from 0.36801\n",
      "Epoch 21/60\n",
      "9/9 [==============================] - 1s 67ms/step - loss: 0.0781 - accuracy: 0.9781 - val_loss: 0.3313 - val_accuracy: 0.9204\n",
      "\n",
      "Epoch 00021: val_loss improved from 0.36801 to 0.33128, saving model to model_best.keras\n",
      "Epoch 22/60\n",
      "9/9 [==============================] - 1s 64ms/step - loss: 0.0700 - accuracy: 0.9805 - val_loss: 0.2922 - val_accuracy: 0.9326\n",
      "\n",
      "Epoch 00022: val_loss improved from 0.33128 to 0.29215, saving model to model_best.keras\n",
      "Epoch 23/60\n",
      "9/9 [==============================] - 1s 64ms/step - loss: 0.0752 - accuracy: 0.9797 - val_loss: 0.2572 - val_accuracy: 0.9543\n",
      "\n",
      "Epoch 00023: val_loss improved from 0.29215 to 0.25715, saving model to model_best.keras\n",
      "Epoch 24/60\n",
      "9/9 [==============================] - 1s 64ms/step - loss: 0.0660 - accuracy: 0.9814 - val_loss: 0.2392 - val_accuracy: 0.9619\n",
      "\n",
      "Epoch 00024: val_loss improved from 0.25715 to 0.23915, saving model to model_best.keras\n",
      "Epoch 25/60\n",
      "9/9 [==============================] - 1s 65ms/step - loss: 0.0821 - accuracy: 0.9787 - val_loss: 0.2179 - val_accuracy: 0.9721\n",
      "\n",
      "Epoch 00025: val_loss improved from 0.23915 to 0.21786, saving model to model_best.keras\n",
      "Epoch 26/60\n",
      "9/9 [==============================] - 1s 67ms/step - loss: 0.0737 - accuracy: 0.9809 - val_loss: 0.2019 - val_accuracy: 0.9697\n",
      "\n",
      "Epoch 00026: val_loss improved from 0.21786 to 0.20189, saving model to model_best.keras\n",
      "Epoch 27/60\n",
      "9/9 [==============================] - 1s 70ms/step - loss: 0.0935 - accuracy: 0.9750 - val_loss: 0.1889 - val_accuracy: 0.9727\n",
      "\n",
      "Epoch 00027: val_loss improved from 0.20189 to 0.18891, saving model to model_best.keras\n",
      "Epoch 28/60\n",
      "9/9 [==============================] - 1s 70ms/step - loss: 0.0673 - accuracy: 0.9816 - val_loss: 0.1941 - val_accuracy: 0.9703\n",
      "\n",
      "Epoch 00028: val_loss did not improve from 0.18891\n",
      "Epoch 29/60\n",
      "9/9 [==============================] - 1s 64ms/step - loss: 0.0623 - accuracy: 0.9818 - val_loss: 0.1960 - val_accuracy: 0.9633\n",
      "\n",
      "Epoch 00029: val_loss did not improve from 0.18891\n",
      "Epoch 30/60\n",
      "9/9 [==============================] - 1s 64ms/step - loss: 0.0847 - accuracy: 0.9764 - val_loss: 0.1834 - val_accuracy: 0.9690\n",
      "\n",
      "Epoch 00030: val_loss improved from 0.18891 to 0.18345, saving model to model_best.keras\n",
      "Epoch 31/60\n",
      "9/9 [==============================] - 1s 64ms/step - loss: 0.0737 - accuracy: 0.9801 - val_loss: 0.1733 - val_accuracy: 0.9733\n",
      "\n",
      "Epoch 00031: val_loss improved from 0.18345 to 0.17326, saving model to model_best.keras\n",
      "Epoch 32/60\n",
      "9/9 [==============================] - 1s 67ms/step - loss: 0.0670 - accuracy: 0.9808 - val_loss: 0.1489 - val_accuracy: 0.9809\n",
      "\n",
      "Epoch 00032: val_loss improved from 0.17326 to 0.14894, saving model to model_best.keras\n",
      "Epoch 33/60\n",
      "9/9 [==============================] - 1s 70ms/step - loss: 0.0816 - accuracy: 0.9784 - val_loss: 0.1082 - val_accuracy: 0.9845\n",
      "\n",
      "Epoch 00033: val_loss improved from 0.14894 to 0.10823, saving model to model_best.keras\n",
      "Epoch 34/60\n",
      "9/9 [==============================] - 1s 64ms/step - loss: 0.0689 - accuracy: 0.9816 - val_loss: 0.1063 - val_accuracy: 0.9850\n",
      "\n",
      "Epoch 00034: val_loss improved from 0.10823 to 0.10634, saving model to model_best.keras\n",
      "Epoch 35/60\n",
      "9/9 [==============================] - 1s 68ms/step - loss: 0.0718 - accuracy: 0.9804 - val_loss: 0.0925 - val_accuracy: 0.9847\n",
      "\n",
      "Epoch 00035: val_loss improved from 0.10634 to 0.09253, saving model to model_best.keras\n",
      "Epoch 36/60\n",
      "9/9 [==============================] - 1s 64ms/step - loss: 0.0685 - accuracy: 0.9815 - val_loss: 0.0920 - val_accuracy: 0.9856\n",
      "\n",
      "Epoch 00036: val_loss improved from 0.09253 to 0.09197, saving model to model_best.keras\n",
      "Epoch 37/60\n",
      "9/9 [==============================] - 1s 64ms/step - loss: 0.0730 - accuracy: 0.9808 - val_loss: 0.1013 - val_accuracy: 0.9851\n",
      "\n",
      "Epoch 00037: val_loss did not improve from 0.09197\n",
      "Epoch 38/60\n",
      "9/9 [==============================] - 1s 64ms/step - loss: 0.0645 - accuracy: 0.9816 - val_loss: 0.0849 - val_accuracy: 0.9849\n",
      "\n",
      "Epoch 00038: val_loss improved from 0.09197 to 0.08494, saving model to model_best.keras\n",
      "Epoch 39/60\n",
      "9/9 [==============================] - 1s 64ms/step - loss: 0.0623 - accuracy: 0.9821 - val_loss: 0.0827 - val_accuracy: 0.9856\n",
      "\n",
      "Epoch 00039: val_loss improved from 0.08494 to 0.08269, saving model to model_best.keras\n",
      "Epoch 40/60\n",
      "9/9 [==============================] - 1s 78ms/step - loss: 0.0794 - accuracy: 0.9807 - val_loss: 0.1017 - val_accuracy: 0.9820\n",
      "\n",
      "Epoch 00040: val_loss did not improve from 0.08269\n",
      "Epoch 41/60\n",
      "9/9 [==============================] - 1s 74ms/step - loss: 0.0689 - accuracy: 0.9816 - val_loss: 0.0907 - val_accuracy: 0.9847\n",
      "\n",
      "Epoch 00041: val_loss did not improve from 0.08269\n",
      "Epoch 42/60\n",
      "9/9 [==============================] - 1s 74ms/step - loss: 0.0780 - accuracy: 0.9784 - val_loss: 0.0962 - val_accuracy: 0.9818\n",
      "\n",
      "Epoch 00042: val_loss did not improve from 0.08269\n",
      "Epoch 43/60\n",
      "9/9 [==============================] - 1s 74ms/step - loss: 0.0670 - accuracy: 0.9821 - val_loss: 0.1255 - val_accuracy: 0.9773\n",
      "\n",
      "Epoch 00043: val_loss did not improve from 0.08269\n",
      "Epoch 44/60\n",
      "9/9 [==============================] - 1s 74ms/step - loss: 0.0640 - accuracy: 0.9821 - val_loss: 0.0721 - val_accuracy: 0.9845\n",
      "\n",
      "Epoch 00044: val_loss improved from 0.08269 to 0.07206, saving model to model_best.keras\n",
      "Epoch 45/60\n",
      "9/9 [==============================] - 1s 74ms/step - loss: 0.0718 - accuracy: 0.9821 - val_loss: 0.0747 - val_accuracy: 0.9824\n",
      "\n",
      "Epoch 00045: val_loss did not improve from 0.07206\n",
      "Epoch 46/60\n",
      "9/9 [==============================] - 1s 74ms/step - loss: 0.0568 - accuracy: 0.9823 - val_loss: 0.1373 - val_accuracy: 0.9681\n",
      "\n",
      "Epoch 00046: val_loss did not improve from 0.07206\n",
      "Epoch 47/60\n",
      "9/9 [==============================] - 1s 74ms/step - loss: 0.0640 - accuracy: 0.9830 - val_loss: 0.0779 - val_accuracy: 0.9819\n",
      "\n",
      "Epoch 00047: val_loss did not improve from 0.07206\n",
      "Epoch 48/60\n",
      "9/9 [==============================] - 1s 75ms/step - loss: 0.0663 - accuracy: 0.9835 - val_loss: 0.0992 - val_accuracy: 0.9774\n",
      "\n",
      "Epoch 00048: val_loss did not improve from 0.07206\n",
      "Epoch 49/60\n",
      "9/9 [==============================] - 1s 75ms/step - loss: 0.0540 - accuracy: 0.9826 - val_loss: 0.0900 - val_accuracy: 0.9767\n",
      "\n",
      "Epoch 00049: val_loss did not improve from 0.07206\n",
      "Epoch 50/60\n",
      "9/9 [==============================] - 1s 75ms/step - loss: 0.0506 - accuracy: 0.9838 - val_loss: 0.0659 - val_accuracy: 0.9835\n",
      "\n",
      "Epoch 00050: val_loss improved from 0.07206 to 0.06589, saving model to model_best.keras\n",
      "Epoch 51/60\n",
      "9/9 [==============================] - 1s 77ms/step - loss: 0.0546 - accuracy: 0.9833 - val_loss: 0.0596 - val_accuracy: 0.9851\n",
      "\n",
      "Epoch 00051: val_loss improved from 0.06589 to 0.05957, saving model to model_best.keras\n",
      "Epoch 52/60\n",
      "9/9 [==============================] - 1s 75ms/step - loss: 0.0622 - accuracy: 0.9823 - val_loss: 0.0701 - val_accuracy: 0.9820\n",
      "\n",
      "Epoch 00052: val_loss did not improve from 0.05957\n",
      "Epoch 53/60\n",
      "9/9 [==============================] - 1s 74ms/step - loss: 0.0657 - accuracy: 0.9816 - val_loss: 0.0680 - val_accuracy: 0.9795\n",
      "\n",
      "Epoch 00053: val_loss did not improve from 0.05957\n",
      "Epoch 54/60\n",
      "9/9 [==============================] - 1s 74ms/step - loss: 0.0586 - accuracy: 0.9830 - val_loss: 0.1314 - val_accuracy: 0.9574\n",
      "\n",
      "Epoch 00054: val_loss did not improve from 0.05957\n",
      "Epoch 55/60\n",
      "9/9 [==============================] - 1s 67ms/step - loss: 0.0584 - accuracy: 0.9822 - val_loss: 0.0741 - val_accuracy: 0.9768\n",
      "\n",
      "Epoch 00055: val_loss did not improve from 0.05957\n",
      "Epoch 56/60\n",
      "9/9 [==============================] - 1s 79ms/step - loss: 0.0576 - accuracy: 0.9836 - val_loss: 0.0830 - val_accuracy: 0.9739\n"
     ]
    }
   ],
   "source": [
    "# Train (save best results, and possibly all)\n",
    "do_train = True\n",
    "model = tf.keras.models.load_model('model_first.keras')\n",
    "if do_train:\n",
    "  results = model.fit(*data_input,\n",
    "                      batch_size = 8 if model==\"deeplab\" else 8,\n",
    "                      epochs = 60,\n",
    "                      callbacks = callbacks,\n",
    "                      validation_data=(image[val], mask[val]))\n",
    "  history = results.history\n",
    "else:\n",
    "  model = tf.keras.models.load_model('model_best.h5')\n",
    "  history = pd.read_csv('result_history.csv')"
   ]
  },
  {
   "cell_type": "code",
   "execution_count": null,
   "metadata": {
    "colab": {
     "base_uri": "https://localhost:8080/",
     "height": 487
    },
    "executionInfo": {
     "elapsed": 694,
     "status": "ok",
     "timestamp": 1709204411339,
     "user": {
      "displayName": "Kristján Jónasson",
      "userId": "00508561415880381228"
     },
     "user_tz": 0
    },
    "id": "3oeQFelQT8NI",
    "outputId": "defe7994-4dc3-4e88-f89d-0ff4fe48bad2"
   },
   "outputs": [],
   "source": [
    "# Plot learning curve\n",
    "import matplotlib.pyplot as plt\n",
    "plt.figure(figsize=(7, 5))\n",
    "plt.title(\"Learning curve\")\n",
    "plt.plot(history[\"loss\"], label=\"loss\")\n",
    "plt.plot(history[\"val_loss\"], label=\"val_loss\")\n",
    "plt.plot(np.argmin(history[\"val_loss\"]),\n",
    "        np.min(history[\"val_loss\"]),\n",
    "        marker=\"x\", color=\"r\", label=\"best model\")\n",
    "plt.xlabel(\"Epochs\")\n",
    "plt.ylabel(\"log_loss\")\n",
    "plt.legend();"
   ]
  },
  {
   "cell_type": "code",
   "execution_count": null,
   "metadata": {
    "colab": {
     "base_uri": "https://localhost:8080/",
     "height": 601
    },
    "executionInfo": {
     "elapsed": 5974,
     "status": "ok",
     "timestamp": 1709204426157,
     "user": {
      "displayName": "Kristján Jónasson",
      "userId": "00508561415880381228"
     },
     "user_tz": 0
    },
    "id": "HmUuD0jOL7Bw",
    "outputId": "03765bf5-08e1-4b67-cfe7-3ccb1f1ed383"
   },
   "outputs": [],
   "source": [
    "# Compute predicted probabilites everywhere; evaluate on test\n",
    "probs = model.predict(image, verbose=1)\n",
    "(test_loss, test_accuracy) = model.evaluate(image[test], mask[test])\n",
    "print(f'Accuracy on test: {test_accuracy}')\n",
    "plt.hist(probs.ravel())"
   ]
  },
  {
   "cell_type": "code",
   "execution_count": null,
   "metadata": {
    "executionInfo": {
     "elapsed": 461,
     "status": "ok",
     "timestamp": 1709204437937,
     "user": {
      "displayName": "Kristján Jónasson",
      "userId": "00508561415880381228"
     },
     "user_tz": 0
    },
    "id": "zBAVJDuhKC7w"
   },
   "outputs": [],
   "source": [
    "# Save the training history and model predictions\n",
    "pdhistory = pd.DataFrame(history)\n",
    "pdhistory.to_csv(\"result_history.csv\")\n",
    "np.savez(\"probs.npz\", probs, test_loss, test_accuracy)"
   ]
  },
  {
   "cell_type": "code",
   "execution_count": null,
   "metadata": {
    "colab": {
     "base_uri": "https://localhost:8080/"
    },
    "executionInfo": {
     "elapsed": 355,
     "status": "ok",
     "timestamp": 1709204439977,
     "user": {
      "displayName": "Kristján Jónasson",
      "userId": "00508561415880381228"
     },
     "user_tz": 0
    },
    "id": "s_TBXWJI_Med",
    "outputId": "ca7d423c-07d3-405a-d250-39dc77720b6c"
   },
   "outputs": [],
   "source": [
    "# Display running time and disconnect\n",
    "end_time = time.time()\n",
    "min, sec = divmod(int(end_time - start_time), 60)\n",
    "print(f\"Total execution time: {min}:{sec:02}\")"
   ]
  },
  {
   "cell_type": "code",
   "execution_count": null,
   "metadata": {
    "id": "1mQTfHW1fQjU"
   },
   "outputs": [],
   "source": [
    "from google.colab import runtime\n",
    "runtime.unassign()"
   ]
  }
 ],
 "metadata": {
  "accelerator": "GPU",
  "colab": {
   "gpuType": "V100",
   "provenance": []
  },
  "kernelspec": {
   "display_name": "Python 3 (ipykernel)",
   "language": "python",
   "name": "python3"
  },
  "language_info": {
   "codemirror_mode": {
    "name": "ipython",
    "version": 3
   },
   "file_extension": ".py",
   "mimetype": "text/x-python",
   "name": "python",
   "nbconvert_exporter": "python",
   "pygments_lexer": "ipython3",
   "version": "3.9.15"
  }
 },
 "nbformat": 4,
 "nbformat_minor": 4
}
