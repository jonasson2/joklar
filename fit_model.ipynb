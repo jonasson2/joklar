{
 "cells": [
  {
   "cell_type": "code",
   "execution_count": null,
   "metadata": {
    "colab": {
     "base_uri": "https://localhost:8080/"
    },
    "executionInfo": {
     "elapsed": 26035,
     "status": "ok",
     "timestamp": 1711033139665,
     "user": {
      "displayName": "Kristján Jónasson",
      "userId": "00508561415880381228"
     },
     "user_tz": 0
    },
    "id": "AG7qcLskxTgH",
    "outputId": "7c408897-ab07-40a2-cf69-2fe3a60f0dd7",
    "tags": []
   },
   "outputs": [],
   "source": [
    "import os\n",
    "try: # Check platform (Colab or Jupyter)\n",
    "    from google.colab import drive\n",
    "    drive.mount('/content/drive')\n",
    "    PATH = \"/content/drive/My Drive/joklar/\"\n",
    "except:\n",
    "    PATH = os.getcwd() + \"/\""
   ]
  },
  {
   "cell_type": "code",
   "execution_count": null,
   "metadata": {
    "executionInfo": {
     "elapsed": 8460,
     "status": "ok",
     "timestamp": 1711033148123,
     "user": {
      "displayName": "Kristján Jónasson",
      "userId": "00508561415880381228"
     },
     "user_tz": 0
    },
    "id": "4l99LOD_iBsC",
    "tags": []
   },
   "outputs": [],
   "source": [
    "import numpy as np, os, sys, time, pandas as pd, tensorflow as tf, random\n",
    "start_time = time.time()\n",
    "import keras\n",
    "from tensorflow.keras.optimizers.legacy import Adam\n",
    "from sklearn.model_selection import train_test_split\n",
    "from tensorflow.keras.callbacks import EarlyStopping, ModelCheckpoint\n",
    "from tensorflow.keras.callbacks import ReduceLROnPlateau\n",
    "sys.path.append(PATH + \"src\")\n",
    "from util.util import install_import\n",
    "from util.image_util import load_data\n",
    "from osgeo import gdal"
   ]
  },
  {
   "cell_type": "code",
   "execution_count": null,
   "metadata": {
    "executionInfo": {
     "elapsed": 1631,
     "status": "ok",
     "timestamp": 1711033154966,
     "user": {
      "displayName": "Kristján Jónasson",
      "userId": "00508561415880381228"
     },
     "user_tz": 0
    },
    "id": "PiMCe9HabXfW",
    "tags": []
   },
   "outputs": [],
   "source": [
    "# Define model type and data to use\n",
    "MODELTYPE = \"unet\"\n",
    "AUGMENTATION = False\n",
    "MODEL_PATH = PATH + \"results/\" + MODELTYPE + \"/\"\n",
    "DATA_PATH = PATH + \"data/lang/\"\n",
    "os.makedirs(MODEL_PATH, exist_ok=True)\n",
    "os.chdir(MODEL_PATH)"
   ]
  },
  {
   "cell_type": "code",
   "execution_count": null,
   "metadata": {
    "executionInfo": {
     "elapsed": 841,
     "status": "ok",
     "timestamp": 1711033162367,
     "user": {
      "displayName": "Kristján Jónasson",
      "userId": "00508561415880381228"
     },
     "user_tz": 0
    },
    "id": "m5JIilbk2SAO",
    "tags": []
   },
   "outputs": [],
   "source": [
    "# Import project-specific packages\n",
    "\n",
    "# NOTES\n",
    "# deeplab-v3+ is copied more or less directly from the github repository\n",
    "#    github.com/david8862/tf-keras-deeplabv3p-model-set\n",
    "# (the original files are in the subdirectory from_github, cf differences.txt)\n",
    "#\n",
    "# unet is copied from...\n",
    "\n",
    "if MODELTYPE == \"unet\":\n",
    "    from models.unet import get_unet\n",
    "else: # deeplab\n",
    "    install_import(\"keras_applications\")\n",
    "    from models.deeplabv3p import model"
   ]
  },
  {
   "cell_type": "code",
   "execution_count": null,
   "metadata": {
    "executionInfo": {
     "elapsed": 617,
     "status": "ok",
     "timestamp": 1711033178164,
     "user": {
      "displayName": "Kristján Jónasson",
      "userId": "00508561415880381228"
     },
     "user_tz": 0
    },
    "id": "VC_fLe17OvGG",
    "tags": []
   },
   "outputs": [],
   "source": [
    "def create_model():\n",
    "    if MODELTYPE == \"unet\":\n",
    "      input_img = keras.layers.Input((256, 256, 13), name='img')\n",
    "      Adam_params = {\"learning_rate\":1e-4, \"clipnorm\":1.0}\n",
    "      model = get_unet(input_img, n_filters=64, dropout=0.2, batchnorm=True)\n",
    "\n",
    "    else: # deeplab\n",
    "      Adam_params = {\"learning_rate\":1e-4}\n",
    "      get_deeplab = model.get_deeplabv3p_model\n",
    "      model = get_deeplab(model_type='resnet50', num_classes=1,\n",
    "                          model_input_shape=(256,256),\n",
    "                          output_stride=16,\n",
    "                          freeze_level=0,\n",
    "                          weights_path=None,\n",
    "                          training=True,\n",
    "                          use_subpixel=False)\n",
    "\n",
    "    model.compile(optimizer = Adam(**Adam_params),\n",
    "                  loss=\"binary_crossentropy\",\n",
    "                  metrics=[\"accuracy\"])\n",
    "    model.save('model_first.keras')\n",
    "    return model\n",
    "    # NOTE: Saving weights only gives a file just as big as saving the whole model"
   ]
  },
  {
   "cell_type": "code",
   "execution_count": null,
   "metadata": {
    "executionInfo": {
     "elapsed": 2,
     "status": "ok",
     "timestamp": 1711033182180,
     "user": {
      "displayName": "Kristján Jónasson",
      "userId": "00508561415880381228"
     },
     "user_tz": 0
    },
    "id": "YPvmbfDPTEvm",
    "tags": []
   },
   "outputs": [],
   "source": [
    "def define_callbacks():\n",
    "    if MODELTYPE == \"unet\":\n",
    "      early_stopping = EarlyStopping(patience=15, verbose=1)\n",
    "      reduce_LR_on_plateau = ReduceLROnPlateau(factor=0.1,\n",
    "                                              patience=7,\n",
    "                                              min_lr=0.00001,\n",
    "                                              verbose=1),\n",
    "\n",
    "    else: # deeplab\n",
    "      early_stopping = EarlyStopping(min_delta=0.01,\n",
    "                                    patience=40,\n",
    "                                    verbose=1,\n",
    "                                    monitor='val_loss',\n",
    "                                    restore_best_weights=True)\n",
    "      reduce_LR_on_plateau = ReduceLROnPlateau(factor=0.1,\n",
    "                                              patience=10,\n",
    "                                              min_lr=1e-12,\n",
    "                                              verbose=1)\n",
    "    checkpoint_best = ModelCheckpoint('model_best.keras',\n",
    "                                      verbose=1,\n",
    "                                      monitor=\"val_loss\",\n",
    "                                      save_weights_only=True,\n",
    "                                      save_best_only=True)\n",
    "    checkpoint_last = ModelCheckpoint('model_last.keras',\n",
    "                                      save_weights_only=True)\n",
    "    callbacks = [\n",
    "      EarlyStopping(patience=60, verbose=1),\n",
    "      ReduceLROnPlateau(factor=0.3, patience=10, min_lr=0.00001, verbose=1),\n",
    "      checkpoint_best,\n",
    "      checkpoint_last,\n",
    "    ]\n",
    "    return callbacks"
   ]
  },
  {
   "cell_type": "code",
   "execution_count": null,
   "metadata": {
    "executionInfo": {
     "elapsed": 2,
     "status": "ok",
     "timestamp": 1711033184154,
     "user": {
      "displayName": "Kristján Jónasson",
      "userId": "00508561415880381228"
     },
     "user_tz": 0
    },
    "id": "gmP8bV8i6b1C",
    "tags": []
   },
   "outputs": [],
   "source": [
    "def train_val_test_split(border_indices):\n",
    "  # Define data split (training, validation, and test sets)\n",
    "  seed = 42\n",
    "  tf_seed = 42\n",
    "  random.seed(seed)\n",
    "  np.random.seed(seed)\n",
    "  tf.random.set_seed(tf_seed)\n",
    "  test_size = 0.15\n",
    "  train_size = 0.18  # or 0.15/(1 - test_size)\n",
    "  temp, test = train_test_split(border_indices, test_size = test_size, random_state=seed)\n",
    "  train, val = train_test_split(temp, test_size = train_size, random_state=seed)\n",
    "  return train, val, test"
   ]
  },
  {
   "cell_type": "code",
   "execution_count": null,
   "metadata": {
    "executionInfo": {
     "elapsed": 3,
     "status": "ok",
     "timestamp": 1711033185625,
     "user": {
      "displayName": "Kristján Jónasson",
      "userId": "00508561415880381228"
     },
     "user_tz": 0
    },
    "id": "O5eu1r0pKJW8",
    "tags": []
   },
   "outputs": [],
   "source": [
    "def albumentations_generator(img, mask, train):\n",
    "  # Implement data augmentation with the albumentations package\n",
    "  augmentation = {\n",
    "      \"random_gamma_probability\": 0.5,\n",
    "      \"random_gamma_gamma_limit\": [80, 120],\n",
    "      \"flipud_probability\": 0.5,\n",
    "      \"fliplr_probability\": 0.5,\n",
    "      \"rotate90_probability\": 0.5,\n",
    "      \"random_crop_probability\": 0.5,\n",
    "      \"random_crop_height\": 256,\n",
    "      \"random_crop_width\": 256,\n",
    "      \"random_crop_scale_x\": 0.5,\n",
    "      \"random_crop_scale_y\": 0.5\n",
    "  }\n",
    "  from util.generator import AugmentDataGenerator\n",
    "  train_gen = AugmentDataGenerator(img[train], mask[train], augmentation)\n",
    "  return train_gen"
   ]
  },
  {
   "cell_type": "code",
   "execution_count": null,
   "metadata": {
    "colab": {
     "base_uri": "https://localhost:8080/"
    },
    "executionInfo": {
     "elapsed": 10827,
     "status": "ok",
     "timestamp": 1711033208031,
     "user": {
      "displayName": "Kristján Jónasson",
      "userId": "00508561415880381228"
     },
     "user_tz": 0
    },
    "id": "B6GNRzUzmlus",
    "outputId": "afc2577d-38e8-48d6-cd05-dd3b895ba38f",
    "tags": []
   },
   "outputs": [],
   "source": [
    "%%time\n",
    "(image, mask) = load_data(, \"border\")\n",
    "dtype = image.dtype\n",
    "ntile = len(image)\n",
    "nchan = image.shape[-1]\n",
    "print(f\"{nchan} channels, {ntile} tiles, datatype: {dtype}\")"
   ]
  },
  {
   "cell_type": "code",
   "execution_count": null,
   "metadata": {
    "executionInfo": {
     "elapsed": 8349,
     "status": "ok",
     "timestamp": 1711032173844,
     "user": {
      "displayName": "Kristján Jónasson",
      "userId": "00508561415880381228"
     },
     "user_tz": 0
    },
    "id": "N5O0dcbovMpX",
    "tags": []
   },
   "outputs": [],
   "source": [
    "(train, val, test) = train_val_test_split(range(ntile))\n",
    "if AUGMENTATION:\n",
    "  data_input = (albumentations_generator(image, mask, train),)\n",
    "else:\n",
    "  data_input = (image[train], mask[train])\n",
    "model = create_model()\n",
    "callbacks = define_callbacks()"
   ]
  },
  {
   "cell_type": "code",
   "execution_count": null,
   "metadata": {
    "colab": {
     "base_uri": "https://localhost:8080/"
    },
    "executionInfo": {
     "elapsed": 154453,
     "status": "ok",
     "timestamp": 1711032328275,
     "user": {
      "displayName": "Kristján Jónasson",
      "userId": "00508561415880381228"
     },
     "user_tz": 0
    },
    "id": "hlaefjAmd1uB",
    "outputId": "d35a63fa-53b9-4cb2-a752-d28e6c9a8cf7",
    "tags": []
   },
   "outputs": [],
   "source": [
    "# Train (save best results, and possibly all)\n",
    "do_train = True\n",
    "model = tf.keras.models.load_model('model_first.keras')\n",
    "if do_train:\n",
    "  results = model.fit(*data_input,\n",
    "                      batch_size = 8 if model==\"deeplab\" else 8,\n",
    "                      epochs = 60,\n",
    "                      callbacks = callbacks,\n",
    "                      validation_data=(image[val], mask[val]))\n",
    "  history = results.history\n",
    "else:\n",
    "  model = tf.keras.models.load_model('model_best.h5')\n",
    "  history = pd.read_csv('result_history.csv')"
   ]
  },
  {
   "cell_type": "code",
   "execution_count": null,
   "metadata": {
    "colab": {
     "base_uri": "https://localhost:8080/",
     "height": 487
    },
    "executionInfo": {
     "elapsed": 614,
     "status": "ok",
     "timestamp": 1711032328868,
     "user": {
      "displayName": "Kristján Jónasson",
      "userId": "00508561415880381228"
     },
     "user_tz": 0
    },
    "id": "3oeQFelQT8NI",
    "outputId": "940b71d8-b7b9-4d93-975e-73578675b7cb"
   },
   "outputs": [],
   "source": [
    "# Plot learning curve\n",
    "import matplotlib.pyplot as plt\n",
    "plt.figure(figsize=(7, 5))\n",
    "plt.title(\"Learning curve\")\n",
    "plt.plot(history[\"loss\"], label=\"loss\")\n",
    "plt.plot(history[\"val_loss\"], label=\"val_loss\")\n",
    "plt.plot(np.argmin(history[\"val_loss\"]),\n",
    "        np.min(history[\"val_loss\"]),\n",
    "        marker=\"x\", color=\"r\", label=\"best model\")\n",
    "plt.xlabel(\"Epochs\")\n",
    "plt.ylabel(\"log_loss\")\n",
    "plt.legend();"
   ]
  },
  {
   "cell_type": "code",
   "execution_count": null,
   "metadata": {
    "colab": {
     "base_uri": "https://localhost:8080/",
     "height": 601
    },
    "executionInfo": {
     "elapsed": 15449,
     "status": "ok",
     "timestamp": 1711032344312,
     "user": {
      "displayName": "Kristján Jónasson",
      "userId": "00508561415880381228"
     },
     "user_tz": 0
    },
    "id": "HmUuD0jOL7Bw",
    "outputId": "cf717a29-e3b5-4c34-eafe-69a02c3ee100"
   },
   "outputs": [],
   "source": [
    "# Compute predicted probabilites everywhere; evaluate on test\n",
    "probs = model.predict(image, verbose=1)\n",
    "(test_loss, test_accuracy) = model.evaluate(image[test], mask[test])\n",
    "print(f'Accuracy on test: {test_accuracy}')\n",
    "plt.hist(probs.ravel())"
   ]
  },
  {
   "cell_type": "code",
   "execution_count": null,
   "metadata": {
    "executionInfo": {
     "elapsed": 6128,
     "status": "ok",
     "timestamp": 1711032350418,
     "user": {
      "displayName": "Kristján Jónasson",
      "userId": "00508561415880381228"
     },
     "user_tz": 0
    },
    "id": "zBAVJDuhKC7w"
   },
   "outputs": [],
   "source": [
    "# Save the training history and model predictions\n",
    "pdhistory = pd.DataFrame(history)\n",
    "pdhistory.to_csv(\"result_history.csv\")\n",
    "np.savez(\"probs.npz\", probs, test_loss, test_accuracy)"
   ]
  },
  {
   "cell_type": "code",
   "execution_count": null,
   "metadata": {
    "colab": {
     "base_uri": "https://localhost:8080/"
    },
    "executionInfo": {
     "elapsed": 5,
     "status": "ok",
     "timestamp": 1711032350418,
     "user": {
      "displayName": "Kristján Jónasson",
      "userId": "00508561415880381228"
     },
     "user_tz": 0
    },
    "id": "s_TBXWJI_Med",
    "outputId": "fa56ec24-5739-4b44-8836-c39959775570"
   },
   "outputs": [],
   "source": [
    "# Display running time and disconnect\n",
    "end_time = time.time()\n",
    "min, sec = divmod(int(end_time - start_time), 60)\n",
    "print(f\"Total execution time: {min}:{sec:02}\")"
   ]
  },
  {
   "cell_type": "code",
   "execution_count": null,
   "metadata": {
    "id": "1mQTfHW1fQjU"
   },
   "outputs": [],
   "source": [
    "from google.colab import runtime\n",
    "runtime.unassign()"
   ]
  },
  {
   "cell_type": "code",
   "execution_count": null,
   "metadata": {
    "id": "weCq-nsLy8Mb"
   },
   "outputs": [],
   "source": []
  }
 ],
 "metadata": {
  "accelerator": "GPU",
  "colab": {
   "gpuType": "V100",
   "provenance": []
  },
  "kernelspec": {
   "display_name": "Python 3 (ipykernel)",
   "language": "python",
   "name": "python3"
  },
  "language_info": {
   "codemirror_mode": {
    "name": "ipython",
    "version": 3
   },
   "file_extension": ".py",
   "mimetype": "text/x-python",
   "name": "python",
   "nbconvert_exporter": "python",
   "pygments_lexer": "ipython3",
   "version": "3.11.3"
  }
 },
 "nbformat": 4,
 "nbformat_minor": 0
}
