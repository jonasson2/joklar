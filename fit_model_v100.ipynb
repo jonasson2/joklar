{
 "cells": [
  {
   "cell_type": "code",
   "execution_count": null,
   "metadata": {
    "colab": {
     "base_uri": "https://localhost:8080/",
     "height": 35
    },
    "executionInfo": {
     "elapsed": 10,
     "status": "ok",
     "timestamp": 1709248541657,
     "user": {
      "displayName": "Kristján Jónasson",
      "userId": "00508561415880381228"
     },
     "user_tz": 0
    },
    "id": "Osej0MkzJqDK",
    "outputId": "dd2e0dcd-0afa-4d6e-e71a-c0cec880d6a0"
   },
   "outputs": [],
   "source": [
    "import os\n",
    "os.getcwd()"
   ]
  },
  {
   "cell_type": "code",
   "execution_count": null,
   "metadata": {
    "colab": {
     "base_uri": "https://localhost:8080/"
    },
    "executionInfo": {
     "elapsed": 29844,
     "status": "ok",
     "timestamp": 1709202147833,
     "user": {
      "displayName": "Kristján Jónasson",
      "userId": "00508561415880381228"
     },
     "user_tz": 0
    },
    "id": "LJz56860N3yl",
    "outputId": "1a110213-5ad4-42af-a820-4f42f474f366"
   },
   "outputs": [],
   "source": [
    "import os\n",
    "try: # Check platform (Colab or Jupyter)\n",
    "    from google.colab import drive\n",
    "    drive.mount('/content/drive')\n",
    "    path = \"/content/drive/My Drive/joklar/\"\n",
    "except:\n",
    "    path = os.getcwd()"
   ]
  },
  {
   "cell_type": "code",
   "execution_count": null,
   "metadata": {
    "id": "4l99LOD_iBsC"
   },
   "outputs": [],
   "source": [
    "import numpy as np, os, sys, time, pandas as pd, tensorflow as tf, random\n",
    "start_time = time.time()\n",
    "import keras\n",
    "from tensorflow.keras.optimizers import Adam\n",
    "from sklearn.model_selection import train_test_split\n",
    "from tensorflow.keras.callbacks import EarlyStopping, ModelCheckpoint\n",
    "from tensorflow.keras.callbacks import ReduceLROnPlateau\n",
    "sys.path.append(path + \"src\")\n",
    "from util.util import install_if_missing\n",
    "install_if_missing(\"rasterio\")\n",
    "import rasterio\n",
    "from numpy import flatnonzero as find\n",
    "from osgeo import gdal"
   ]
  },
  {
   "cell_type": "code",
   "execution_count": null,
   "metadata": {
    "id": "PiMCe9HabXfW"
   },
   "outputs": [],
   "source": [
    "# Define model type and data to use\n",
    "modeltype = \"unet\"\n",
    "augmentation = True\n",
    "dataname = \"lang\"\n",
    "model_path = path + \"results/\" + modeltype + \"/\"\n",
    "data_path = path + \"data/\" + dataname + \"/\"\n",
    "os.makedirs(model_path, exist_ok=True)\n",
    "os.chdir(model_path)"
   ]
  },
  {
   "cell_type": "code",
   "execution_count": null,
   "metadata": {
    "id": "mkSjDX46QN2N"
   },
   "outputs": [],
   "source": [
    "def load_image_and_mask():\n",
    "  # Load individual image and mask files, determine glacier border tiles\n",
    "  n_channels = 13\n",
    "  mask_files = [f for f in os.listdir(data_path) if f.startswith('mask-')]\n",
    "  n_all = len(mask_files)\n",
    "  img = np.zeros((n_all, 256, 256, 13), dtype='float')\n",
    "  mask = np.zeros((n_all, 256, 256, 1))\n",
    "  glacier_fraction = np.zeros(n_all)\n",
    "  meta = []\n",
    "  for i in range(n_all):\n",
    "    mask_file = f\"mask-{i:03d}.tif\"\n",
    "    img_file = f\"img-{i:03d}.tif\"\n",
    "    dataset = gdal.Open(f\"{data_path}/{mask_file}\", gdal.GA_ReadOnly)\n",
    "    band = dataset.GetRasterBand(1)\n",
    "    mask_arr = band.ReadAsArray()[:,:,None]\n",
    "    with rasterio.open(data_path + img_file) as f:\n",
    "      img_arr = np.dstack([f.read(b) for b in range(1, n_channels + 1)])\n",
    "      meta.append(f.meta)\n",
    "    glacier_fraction[i] = np.sum(mask_arr != 0) / mask_arr.size\n",
    "    img[i] = img_arr/10000\n",
    "    mask[i] = mask_arr\n",
    "  return img, mask\n",
    "\n",
    "def find_border_indices(mask):\n",
    "    glacier_fraction = [np.sum(m != 0)/m.size for m in mask]\n",
    "    is_on_border = [0.01 < g < 0.99 for g in glacier_fraction]\n",
    "    return find(is_on_border)"
   ]
  },
  {
   "cell_type": "code",
   "execution_count": null,
   "metadata": {
    "colab": {
     "base_uri": "https://localhost:8080/"
    },
    "executionInfo": {
     "elapsed": 8427,
     "status": "ok",
     "timestamp": 1709200206128,
     "user": {
      "displayName": "Kristján Jónasson",
      "userId": "00508561415880381228"
     },
     "user_tz": 0
    },
    "id": "EOc2l5tcUF19",
    "outputId": "15ed72bc-49f6-45fa-d406-2fab871fe996"
   },
   "outputs": [],
   "source": [
    "image, mask = load_image_and_mask()\n",
    "border_indices = find_border_indices(mask)\n",
    "image.shape, image.dtype"
   ]
  },
  {
   "cell_type": "code",
   "execution_count": null,
   "metadata": {
    "id": "m5JIilbk2SAO"
   },
   "outputs": [],
   "source": [
    "# Import project-specific packages\n",
    "\n",
    "# NOTES\n",
    "# deeplab-v3+ is copied more or less directly from the github repository\n",
    "#    github.com/david8862/tf-keras-deeplabv3p-model-set\n",
    "# (the original files are in the subdirectory from_github, cf differences.txt)\n",
    "#\n",
    "# unet is copied from...\n",
    "\n",
    "match modeltype:\n",
    "  case \"unet\":\n",
    "    from models.unet import get_unet\n",
    "  case \"deeplab\":\n",
    "    install_if_missing(\"keras_applications\")\n",
    "    from models.deeplabv3p import model"
   ]
  },
  {
   "cell_type": "code",
   "execution_count": null,
   "metadata": {
    "colab": {
     "base_uri": "https://localhost:8080/"
    },
    "executionInfo": {
     "elapsed": 5115,
     "status": "ok",
     "timestamp": 1709202252009,
     "user": {
      "displayName": "Kristján Jónasson",
      "userId": "00508561415880381228"
     },
     "user_tz": 0
    },
    "id": "SBN1LvNWDtTx",
    "outputId": "1b8966c6-39f9-4ddd-a452-0c6558b17f41"
   },
   "outputs": [],
   "source": [
    "# Read image data and data splits and define X and Y for training and test\n",
    "npzfile = data_path + \"lang.npz\"\n",
    "data = np.load(npzfile)\n",
    "image = data[\"image\"]\n",
    "mask = data[\"mask\"]\n",
    "border_indices = find_border_indices(mask)\n",
    "image.shape, len(border_indices)"
   ]
  },
  {
   "cell_type": "code",
   "execution_count": null,
   "metadata": {
    "id": "VC_fLe17OvGG"
   },
   "outputs": [],
   "source": [
    "def create_model(modeltype):\n",
    "  match modeltype:\n",
    "    case \"unet\":\n",
    "      input_img = keras.layers.Input((256, 256, 13), name='img')\n",
    "      Adam_params = {\"learning_rate\":1e-4, \"clipnorm\":1.0}\n",
    "      model = get_unet(input_img, n_filters=64, dropout=0.2, batchnorm=True)\n",
    "\n",
    "    case \"deeplab\":\n",
    "      Adam_params = {\"learning_rate\":1e-4}\n",
    "      get_deeplab = model.get_deeplabv3p_model\n",
    "      model = get_deeplab(model_type='resnet50', num_classes=1,\n",
    "                          model_input_shape=(256,256),\n",
    "                          output_stride=16,\n",
    "                          freeze_level=0,\n",
    "                          weights_path=None,\n",
    "                          training=True,\n",
    "                          use_subpixel=False)\n",
    "\n",
    "  model.compile(optimizer = Adam(**Adam_params),\n",
    "                loss=\"binary_crossentropy\",\n",
    "                metrics=[\"accuracy\"])\n",
    "  model.save('model_first.keras')\n",
    "  return model\n",
    "  # NOTE: Saving weights only gives a file just as big as saving the whole model"
   ]
  },
  {
   "cell_type": "code",
   "execution_count": null,
   "metadata": {
    "id": "YPvmbfDPTEvm"
   },
   "outputs": [],
   "source": [
    "def define_callbacks(modeltype):\n",
    "  match modeltype:\n",
    "    case \"unet\":\n",
    "      early_stopping = EarlyStopping(patience=15, verbose=1)\n",
    "      reduce_LR_on_plateau = ReduceLROnPlateau(factor=0.1,\n",
    "                                              patience=7,\n",
    "                                              min_lr=0.00001,\n",
    "                                              verbose=1),\n",
    "\n",
    "    case \"deeplab\":\n",
    "      early_stopping = EarlyStopping(min_delta=0.01,\n",
    "                                    patience=40,\n",
    "                                    verbose=1,\n",
    "                                    monitor='val_loss',\n",
    "                                    restore_best_weights=True)\n",
    "      reduce_LR_on_plateau = ReduceLROnPlateau(factor=0.1,\n",
    "                                              patience=10,\n",
    "                                              min_lr=1e-12,\n",
    "                                              verbose=1)\n",
    "  checkpoint_best = ModelCheckpoint('model_best.keras',\n",
    "                                    verbose=1,\n",
    "                                    monitor=\"val_loss\",\n",
    "                                    save_weights_only=True,\n",
    "                                    save_best_only=True)\n",
    "  checkpoint_last = ModelCheckpoint('model_last.keras',\n",
    "                                    save_weights_only=True)\n",
    "  callbacks = [\n",
    "      EarlyStopping(patience=60, verbose=1),\n",
    "      ReduceLROnPlateau(factor=0.3, patience=10, min_lr=0.00001, verbose=1),\n",
    "      checkpoint_best,\n",
    "      checkpoint_last,\n",
    "  ]\n",
    "  return callbacks"
   ]
  },
  {
   "cell_type": "code",
   "execution_count": null,
   "metadata": {
    "id": "gmP8bV8i6b1C"
   },
   "outputs": [],
   "source": [
    "def train_val_test_split(border_indices):\n",
    "  # Define data split (training, validation, and test sets)\n",
    "  seed = 47\n",
    "  tf_seed = 45\n",
    "  random.seed(seed)\n",
    "  np.random.seed(seed)\n",
    "  tf.random.set_seed(tf_seed)\n",
    "  test_size = 0.15\n",
    "  train_size = 0.18  # or 0.15/(1 - test_size)\n",
    "  temp, test = train_test_split(border_indices, test_size = test_size, random_state=seed)\n",
    "  train, val = train_test_split(temp, test_size = train_size, random_state=seed)\n",
    "  return train, val, test"
   ]
  },
  {
   "cell_type": "code",
   "execution_count": null,
   "metadata": {
    "id": "O5eu1r0pKJW8"
   },
   "outputs": [],
   "source": [
    "def albumentations_generator(img, mask, train):\n",
    "  # Implement data augmentation with the albumentations package\n",
    "  augmentation = {\n",
    "      \"random_gamma_probability\": 0.5,\n",
    "      \"random_gamma_gamma_limit\": [80, 120],\n",
    "      \"flipud_probability\": 0.5,\n",
    "      \"fliplr_probability\": 0.5,\n",
    "      \"rotate90_probability\": 0.5,\n",
    "      \"random_crop_probability\": 0.5,\n",
    "      \"random_crop_height\": 256,\n",
    "      \"random_crop_width\": 256,\n",
    "      \"random_crop_scale_x\": 0.5,\n",
    "      \"random_crop_scale_y\": 0.5\n",
    "  }\n",
    "  from util.generator import AugmentDataGenerator\n",
    "  train_gen = AugmentDataGenerator(img[train], mask[train], augmentation)\n",
    "  return train_gen"
   ]
  },
  {
   "cell_type": "code",
   "execution_count": null,
   "metadata": {
    "id": "N5O0dcbovMpX"
   },
   "outputs": [],
   "source": [
    "(train, val, test) = train_val_test_split(border_indices)\n",
    "if augmentation:\n",
    "  data_input = (albumentations_generator(image, mask, train),)\n",
    "else:\n",
    "  data_input = (image[train], mask[train])\n",
    "model = create_model(modeltype)\n",
    "callbacks = define_callbacks(modeltype)"
   ]
  },
  {
   "cell_type": "code",
   "execution_count": null,
   "metadata": {
    "colab": {
     "base_uri": "https://localhost:8080/"
    },
    "executionInfo": {
     "elapsed": 130442,
     "status": "ok",
     "timestamp": 1709202480203,
     "user": {
      "displayName": "Kristján Jónasson",
      "userId": "00508561415880381228"
     },
     "user_tz": 0
    },
    "id": "hlaefjAmd1uB",
    "outputId": "714be0d2-4803-47e9-dab9-bcdfe8ecd00f"
   },
   "outputs": [],
   "source": [
    "# Train (save best results, and possibly all)\n",
    "do_train = True\n",
    "if do_train:\n",
    "  results = model.fit(*data_input,\n",
    "                      batch_size = 8 if model==\"deeplab\" else 8,\n",
    "                      epochs = 60,\n",
    "                      callbacks = callbacks,\n",
    "                      validation_data=(image[val], mask[val]))\n",
    "  history = results.history\n",
    "else:\n",
    "  model = tf.keras.models.load_model('model_best.h5')\n",
    "  history = pd.read_csv('result_history.csv')"
   ]
  },
  {
   "cell_type": "code",
   "execution_count": null,
   "metadata": {
    "colab": {
     "base_uri": "https://localhost:8080/",
     "height": 487
    },
    "executionInfo": {
     "elapsed": 1447,
     "status": "ok",
     "timestamp": 1709202487997,
     "user": {
      "displayName": "Kristján Jónasson",
      "userId": "00508561415880381228"
     },
     "user_tz": 0
    },
    "id": "3oeQFelQT8NI",
    "outputId": "5fed97e6-0420-4422-9d05-6cffeba6741b"
   },
   "outputs": [],
   "source": [
    "# Plot learning curve\n",
    "import matplotlib.pyplot as plt\n",
    "plt.figure(figsize=(7, 5))\n",
    "plt.title(\"Learning curve\")\n",
    "plt.plot(history[\"loss\"], label=\"loss\")\n",
    "plt.plot(history[\"val_loss\"], label=\"val_loss\")\n",
    "plt.plot(np.argmin(history[\"val_loss\"]),\n",
    "        np.min(history[\"val_loss\"]),\n",
    "        marker=\"x\", color=\"r\", label=\"best model\")\n",
    "plt.xlabel(\"Epochs\")\n",
    "plt.ylabel(\"log_loss\")\n",
    "plt.legend();"
   ]
  },
  {
   "cell_type": "code",
   "execution_count": null,
   "metadata": {
    "colab": {
     "base_uri": "https://localhost:8080/",
     "height": 601
    },
    "executionInfo": {
     "elapsed": 4816,
     "status": "ok",
     "timestamp": 1709202535257,
     "user": {
      "displayName": "Kristján Jónasson",
      "userId": "00508561415880381228"
     },
     "user_tz": 0
    },
    "id": "HmUuD0jOL7Bw",
    "outputId": "5b1e8d57-f9d9-438a-c619-9440c2ff5870"
   },
   "outputs": [],
   "source": [
    "# Compute predicted probabilites everywhere; evaluate on test\n",
    "probs = model.predict(image, verbose=1)\n",
    "(test_loss, test_accuracy) = model.evaluate(image[test], mask[test])\n",
    "print(f'Accuracy on test: {test_accuracy}')\n",
    "plt.hist(probs.ravel())"
   ]
  },
  {
   "cell_type": "code",
   "execution_count": null,
   "metadata": {
    "id": "zBAVJDuhKC7w"
   },
   "outputs": [],
   "source": [
    "# Save the training history and model predictions\n",
    "pdhistory = pd.DataFrame(history)\n",
    "pdhistory.to_csv(\"result_history.csv\")\n",
    "np.savez(\"probs.npz\", probs, test_loss, test_accuracy)"
   ]
  },
  {
   "cell_type": "code",
   "execution_count": null,
   "metadata": {
    "colab": {
     "base_uri": "https://localhost:8080/"
    },
    "executionInfo": {
     "elapsed": 5,
     "status": "ok",
     "timestamp": 1709202543696,
     "user": {
      "displayName": "Kristján Jónasson",
      "userId": "00508561415880381228"
     },
     "user_tz": 0
    },
    "id": "s_TBXWJI_Med",
    "outputId": "6a63ced3-911a-450b-aed8-4f6186ad82f5"
   },
   "outputs": [],
   "source": [
    "# Display running time and disconnect\n",
    "end_time = time.time()\n",
    "min, sec = divmod(int(end_time - start_time), 60)\n",
    "print(f\"Total execution time: {min}:{sec:02}\")"
   ]
  },
  {
   "cell_type": "code",
   "execution_count": null,
   "metadata": {
    "id": "1mQTfHW1fQjU"
   },
   "outputs": [],
   "source": [
    "from google.colab import runtime\n",
    "runtime.unassign()"
   ]
  },
  {
   "cell_type": "code",
   "execution_count": null,
   "metadata": {
    "id": "9ieBxTkmaRvL"
   },
   "outputs": [],
   "source": []
  }
 ],
 "metadata": {
  "accelerator": "GPU",
  "colab": {
   "gpuType": "A100",
   "provenance": []
  },
  "kernelspec": {
   "display_name": "Python (joklar)",
   "language": "python",
   "name": "joklar"
  },
  "language_info": {
   "codemirror_mode": {
    "name": "ipython",
    "version": 3
   },
   "file_extension": ".py",
   "mimetype": "text/x-python",
   "name": "python",
   "nbconvert_exporter": "python",
   "pygments_lexer": "ipython3",
   "version": "3.10.13"
  }
 },
 "nbformat": 4,
 "nbformat_minor": 0
}
