{
 "cells": [
  {
   "cell_type": "code",
   "execution_count": 26,
   "id": "5f062fa4-de72-4120-9d59-652b369ad62d",
   "metadata": {
    "colab": {
     "base_uri": "https://localhost:8080/"
    },
    "executionInfo": {
     "elapsed": 19031,
     "status": "ok",
     "timestamp": 1708339852969,
     "user": {
      "displayName": "Kristján Jónasson",
      "userId": "00508561415880381228"
     },
     "user_tz": 0
    },
    "id": "AG7qcLskxTgH",
    "outputId": "8ae8c784-aa6e-4f99-cf49-69c9bb12dc3f",
    "tags": [],
    "ExecuteTime": {
     "end_time": "2024-03-20T20:02:54.637304Z",
     "start_time": "2024-03-20T20:02:54.629992Z"
    }
   },
   "outputs": [],
   "source": [
    "# Install and import\n",
    "import os, sys, numpy as np\n",
    "from util.image_util import get_border_indices\n",
    "from glob import glob\n",
    "try: # Check platform (Colab or Jupyter)\n",
    "  import google.colab\n",
    "  my_drive = \"/content/drive/My Drive/\"\n",
    "except:\n",
    "  my_drive = os.path.expanduser(\"~\") + \"/drive/\"\n",
    "path = my_drive + \"joklar/\"\n",
    "sys.path.append(path + \"src\")\n",
    "from util.util import install_import\n",
    "rasterio = install_import(\"rasterio\")"
   ]
  },
  {
   "cell_type": "code",
   "execution_count": 2,
   "id": "2a331c21-f5dc-43d2-a4ac-c63a703460ae",
   "metadata": {
    "colab": {
     "base_uri": "https://localhost:8080/"
    },
    "executionInfo": {
     "elapsed": 19031,
     "status": "ok",
     "timestamp": 1708339852969,
     "user": {
      "displayName": "Kristján Jónasson",
      "userId": "00508561415880381228"
     },
     "user_tz": 0
    },
    "id": "AG7qcLskxTgH",
    "outputId": "8ae8c784-aa6e-4f99-cf49-69c9bb12dc3f",
    "tags": [],
    "ExecuteTime": {
     "end_time": "2024-03-20T19:19:41.709653Z",
     "start_time": "2024-03-20T19:19:41.706233Z"
    }
   },
   "outputs": [],
   "source": [
    "# Define data to use\n",
    "datafolder = \"joklar/data\"\n",
    "dataname = \"lang\"\n",
    "datapath = path + \"data/\" + dataname + \"/\""
   ]
  },
  {
   "cell_type": "code",
   "execution_count": 3,
   "id": "d5eb83a2-44bc-4b5e-ada0-5f3d51f32fd5",
   "metadata": {
    "ExecuteTime": {
     "end_time": "2024-03-20T19:19:43.843757Z",
     "start_time": "2024-03-20T19:19:43.839191Z"
    }
   },
   "outputs": [],
   "source": [
    "# Define functions\n",
    "def read_tile(datapath, n):\n",
    "    #dataname = os.path.basename(datapath.rstrip('/'))\n",
    "    imgfile = datapath + f\"/img-{n:03d}.tif\"\n",
    "    maskfile = datapath + f\"/mask-{n:03d}.tif\"\n",
    "    with rasterio.open(imgfile) as f:\n",
    "        img_channels = f.meta[\"count\"]\n",
    "        img = np.array([f.read(b) for b in range(1, img_channels + 1)])\n",
    "        x = f.meta[\"transform\"][2]\n",
    "        y = f.meta[\"transform\"][5]\n",
    "    with rasterio.open(maskfile) as f:\n",
    "        mask_channels = f.meta[\"count\"]\n",
    "        masks = np.array([f.read(b) for b in range(1, mask_channels + 1)])\n",
    "        mask = np.any(masks, axis=0)\n",
    "    return img, mask, x, y"
   ]
  },
  {
   "cell_type": "code",
   "execution_count": 4,
   "id": "47f8009f-b3a5-43c5-a227-c6ac5b6eecd7",
   "metadata": {
    "ExecuteTime": {
     "end_time": "2024-03-20T19:19:45.595868Z",
     "start_time": "2024-03-20T19:19:45.527173Z"
    }
   },
   "outputs": [
    {
     "name": "stderr",
     "output_type": "stream",
     "text": [
      "/Users/jonasson/miniconda3/envs/general/lib/python3.11/site-packages/rasterio/__init__.py:304: NotGeoreferencedWarning: Dataset has no geotransform, gcps, or rpcs. The identity matrix will be returned.\n",
      "  dataset = DatasetReader(path, driver=driver, sharing=sharing, **kwargs)\n"
     ]
    },
    {
     "data": {
      "text/plain": "(dtype('uint16'), dtype('bool'))"
     },
     "execution_count": 4,
     "metadata": {},
     "output_type": "execute_result"
    }
   ],
   "source": [
    "img, mask, x, y = read_tile(datapath, 21)\n",
    "img.dtype, mask.dtype"
   ]
  },
  {
   "cell_type": "code",
   "execution_count": 23,
   "id": "a4ac7fb7-a31c-4986-8380-8d99577fb577",
   "metadata": {
    "colab": {
     "base_uri": "https://localhost:8080/"
    },
    "editable": true,
    "executionInfo": {
     "elapsed": 61332,
     "status": "ok",
     "timestamp": 1708590694466,
     "user": {
      "displayName": "Kristján Jónasson",
      "userId": "00508561415880381228"
     },
     "user_tz": 0
    },
    "id": "1d3c8841-9af8-4795-b0ff-a00adfa36e20",
    "outputId": "81c2fbf9-0ecd-42d3-cb2e-837b4469931b",
    "tags": [],
    "ExecuteTime": {
     "end_time": "2024-03-20T19:44:05.497408Z",
     "start_time": "2024-03-20T19:44:05.490326Z"
    }
   },
   "outputs": [],
   "source": [
    "def read_tiles(datapath):\n",
    "    # Read a whole glacier\n",
    "    nfiles = len(glob(f\"{datapath}/img-*\"))\n",
    "    img = nfiles*[None]\n",
    "    mask = np.zeros((nfiles, 256, 256), bool)\n",
    "    x = np.zeros(nfiles)\n",
    "    y = np.zeros(nfiles)\n",
    "    for n in range(nfiles):\n",
    "        img[n], mask[n], x[n], y[n] = read_tile(datapath, n)\n",
    "        if n % 10 == 0:\n",
    "            print(f\"{n}, \", end=\"\")\n",
    "    col = ((x - x.min())/2560).astype(int)\n",
    "    row = ((y - y.min())/2560).astype(int)\n",
    "    I = np.lexsort((col, row))\n",
    "    row = row[I]\n",
    "    col = col[I]\n",
    "    mask = mask[I]\n",
    "    data = np.transpose(np.array(img)[I], (0, 2, 3, 1))\n",
    "    return data, mask, row, col"
   ]
  },
  {
   "cell_type": "code",
   "execution_count": 27,
   "outputs": [
    {
     "name": "stdout",
     "output_type": "stream",
     "text": [
      "0, 10, 20, 30, 40, 50, 60, 70, 80, 90, 100, 110, 120, 130, 140, 150, 160, 170, 180, 190, uint16\n"
     ]
    }
   ],
   "source": [
    "image, mask, row, col = read_tiles(datapath)\n",
    "print(image.dtype)"
   ],
   "metadata": {
    "collapsed": false,
    "ExecuteTime": {
     "end_time": "2024-03-20T20:03:01.733757Z",
     "start_time": "2024-03-20T20:02:59.404163Z"
    }
   },
   "id": "33c06184f944cd15"
  },
  {
   "cell_type": "code",
   "outputs": [
    {
     "data": {
      "text/plain": "dtype('uint16')"
     },
     "execution_count": 19,
     "metadata": {},
     "output_type": "execute_result"
    }
   ],
   "source": [
    "image.dtype"
   ],
   "metadata": {
    "collapsed": false,
    "ExecuteTime": {
     "end_time": "2024-03-20T19:29:55.581509Z",
     "start_time": "2024-03-20T19:29:55.576055Z"
    }
   },
   "id": "351e04e1b2161d80",
   "execution_count": 19
  },
  {
   "cell_type": "code",
   "execution_count": 47,
   "outputs": [],
   "source": [
    "def print_info(border_indices, image, mask, row, col):\n",
    "    # Print summary and tif-meta information\n",
    "    w = (col[-1] + 1)*2.56\n",
    "    h = (row[-1] + 1)*2.56\n",
    "    pct_glacier = np.sum(mask)/np.size(mask)*100\n",
    "    n_border = len(border_indices)\n",
    "    pct_border = len(border_indices)/len(mask)*100\n",
    "    print()\n",
    "    print(f\"Image shape: {image.shape}, data type: {image.dtype}\")\n",
    "    print(f\"Region width {w} km, height {h} km\")\n",
    "    print(f\"Pixels labeled glacier: {pct_glacier:.1f}%\")\n",
    "    print(f\"Border indices: {n_border} ({pct_border:.1f}%)\")\n",
    "    print(f\"Mask datatype: {mask.dtype}\")\n",
    "    print()\n",
    "\n",
    "def save_data_and_report(outfile, border_indices, image, mask, row, col):\n",
    "    np.savez_compressed(outfile, border_indices=border_indices,\n",
    "                        image=image, mask=mask, row=row, col=col)\n",
    "    size = os.path.getsize(outfile)\n",
    "    print(size)\n",
    "    compress_ratio = size/(image.nbytes + mask.nbytes + row.nbytes + col.nbytes)\n",
    "    print(f\"Wrote {size/2**20:.1f} Mb of data to {outfile}\")\n",
    "    print(f\"  Compression ratio: {compress_ratio:.2f}\")\n",
    "    print()"
   ],
   "metadata": {
    "collapsed": false,
    "ExecuteTime": {
     "end_time": "2024-03-20T22:37:37.355543Z",
     "start_time": "2024-03-20T22:37:37.348555Z"
    }
   },
   "id": "3bbcc3c847bea089"
  },
  {
   "cell_type": "code",
   "execution_count": 40,
   "id": "670d0eab-795e-435e-be91-b65982b7ab24",
   "metadata": {
    "colab": {
     "base_uri": "https://localhost:8080/"
    },
    "editable": true,
    "executionInfo": {
     "elapsed": 61332,
     "status": "ok",
     "timestamp": 1708590694466,
     "user": {
      "displayName": "Kristján Jónasson",
      "userId": "00508561415880381228"
     },
     "user_tz": 0
    },
    "id": "1d3c8841-9af8-4795-b0ff-a00adfa36e20",
    "outputId": "81c2fbf9-0ecd-42d3-cb2e-837b4469931b",
    "tags": [],
    "ExecuteTime": {
     "end_time": "2024-03-20T20:08:30.891255Z",
     "start_time": "2024-03-20T20:08:28.836128Z"
    }
   },
   "outputs": [
    {
     "name": "stdout",
     "output_type": "stream",
     "text": [
      "0, 10, 20, 30, 40, 50, 60, 70, 80, 90, 100, 110, 120, 130, 140, 150, 160, 170, 180, 190, \n",
      "Image shape: (197, 256, 256, 13), data type: uint16\n",
      "Region width 48.64 km, height 48.64 km\n",
      "Pixels labeled glacier: 68.5%\n",
      "Border indices: 105 (53.3%)\n",
      "Mask datatype: bool\n"
     ]
    }
   ],
   "source": [
    "# Read data and report\n",
    "image, mask, row, col = read_tiles(datapath)\n",
    "border_indices = get_border_indices(image, mask)\n",
    "print_info(border_indices, image, mask, row, col)"
   ]
  },
  {
   "cell_type": "code",
   "execution_count": 48,
   "id": "46455e69-7f7a-4dd3-a638-7f6ce164db60",
   "metadata": {
    "colab": {
     "base_uri": "https://localhost:8080/"
    },
    "editable": true,
    "executionInfo": {
     "elapsed": 61332,
     "status": "ok",
     "timestamp": 1708590694466,
     "user": {
      "displayName": "Kristján Jónasson",
      "userId": "00508561415880381228"
     },
     "user_tz": 0
    },
    "id": "1d3c8841-9af8-4795-b0ff-a00adfa36e20",
    "outputId": "81c2fbf9-0ecd-42d3-cb2e-837b4469931b",
    "tags": [],
    "ExecuteTime": {
     "end_time": "2024-03-20T22:37:56.167526Z",
     "start_time": "2024-03-20T22:37:47.162574Z"
    }
   },
   "outputs": [
    {
     "name": "stdout",
     "output_type": "stream",
     "text": [
      "152809754\n",
      "Wrote 145.7 Mb of data to /Users/jonasson/drive/joklar/data/lang/lang.npz\n",
      "  Compression ratio: 0.44\n"
     ]
    }
   ],
   "source": [
    "# Save to compressed file and report\n",
    "dataname = os.path.basename(datapath.rstrip(\"/\"))\n",
    "outfile = datapath + dataname + \".npz\"\n",
    "save_data_and_report(outfile, border_indices, image, mask, row, col)"
   ]
  },
  {
   "cell_type": "code",
   "outputs": [
    {
     "data": {
      "text/plain": "['border_indices', 'image', 'mask', 'row', 'col']"
     },
     "execution_count": 49,
     "metadata": {},
     "output_type": "execute_result"
    }
   ],
   "source": [
    "d = np.load(outfile)\n",
    "list(d.keys())"
   ],
   "metadata": {
    "collapsed": false,
    "ExecuteTime": {
     "end_time": "2024-03-20T22:38:06.590900Z",
     "start_time": "2024-03-20T22:38:06.584562Z"
    }
   },
   "id": "2db057c42fccce7d",
   "execution_count": 49
  },
  {
   "cell_type": "code",
   "execution_count": 55,
   "id": "598cff53-3848-43a9-866b-e7aefb1ed9bc",
   "metadata": {
    "colab": {
     "base_uri": "https://localhost:8080/"
    },
    "executionInfo": {
     "elapsed": 3149,
     "status": "ok",
     "timestamp": 1708590733691,
     "user": {
      "displayName": "Kristján Jónasson",
      "userId": "00508561415880381228"
     },
     "user_tz": 0
    },
    "id": "598cff53-3848-43a9-866b-e7aefb1ed9bc",
    "outputId": "e00b864b-2459-4183-ec76-8962f3f96fe4",
    "ExecuteTime": {
     "end_time": "2024-03-20T22:41:02.144054Z",
     "start_time": "2024-03-20T22:41:00.897438Z"
    }
   },
   "outputs": [
    {
     "name": "stdout",
     "output_type": "stream",
     "text": [
      "/Users/jonasson/drive/joklar/data/lang/lang.npz\n",
      "197\n",
      "CPU times: user 1.09 s, sys: 87.8 ms, total: 1.18 s\n",
      "Wall time: 1.24 s\n"
     ]
    },
    {
     "data": {
      "text/plain": "((105, 256, 256, 13), (105, 256, 256), (105,), (105,))"
     },
     "execution_count": 55,
     "metadata": {},
     "output_type": "execute_result"
    }
   ],
   "source": [
    "%%time\n",
    "# Test reading of the file\n",
    "(image, mask) = load_data\n",
    "print(outfile)\n",
    "data = np.load(outfile)\n",
    "border_indices = data['border_indices']\n",
    "#border_indices = range(0, len(data['mask']))\n",
    "print(len(data['mask']))\n",
    "image = data['image'][border_indices]\n",
    "mask = data['mask'][border_indices]\n",
    "row = data['row']\n",
    "col = data['col']\n",
    "image.shape, mask.shape, row.shape, col.shape"
   ]
  }
 ],
 "metadata": {
  "colab": {
   "provenance": []
  },
  "kernelspec": {
   "display_name": "Python 3 (ipykernel)",
   "language": "python",
   "name": "python3"
  },
  "language_info": {
   "codemirror_mode": {
    "name": "ipython",
    "version": 3
   },
   "file_extension": ".py",
   "mimetype": "text/x-python",
   "name": "python",
   "nbconvert_exporter": "python",
   "pygments_lexer": "ipython3",
   "version": "3.11.3"
  }
 },
 "nbformat": 4,
 "nbformat_minor": 5
}
