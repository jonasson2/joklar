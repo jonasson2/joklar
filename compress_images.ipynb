{
 "cells": [
  {
   "cell_type": "code",
   "execution_count": 6,
   "id": "5f062fa4-de72-4120-9d59-652b369ad62d",
   "metadata": {
    "colab": {
     "base_uri": "https://localhost:8080/"
    },
    "executionInfo": {
     "elapsed": 19031,
     "status": "ok",
     "timestamp": 1708339852969,
     "user": {
      "displayName": "Kristján Jónasson",
      "userId": "00508561415880381228"
     },
     "user_tz": 0
    },
    "id": "AG7qcLskxTgH",
    "outputId": "8ae8c784-aa6e-4f99-cf49-69c9bb12dc3f",
    "tags": []
   },
   "outputs": [],
   "source": [
    "# Install and import\n",
    "import os, sys, numpy as np\n",
    "#from osgeo import gdal\n",
    "from numpy import flatnonzero as find\n",
    "from glob import glob\n",
    "try: # Check platform (Colab or Jupyter)\n",
    "  import google.colab\n",
    "  my_drive = \"/content/drive/My Drive/\"\n",
    "except:\n",
    "  my_drive = os.path.expanduser(\"~\") + \"/drive/\"\n",
    "path = my_drive + \"jöklar/\"\n",
    "sys.path.append(path + \"src\")\n",
    "from util.util import install_import\n",
    "rasterio = install_import(\"rasterio\")"
   ]
  },
  {
   "cell_type": "code",
   "execution_count": 7,
   "id": "2a331c21-f5dc-43d2-a4ac-c63a703460ae",
   "metadata": {
    "colab": {
     "base_uri": "https://localhost:8080/"
    },
    "executionInfo": {
     "elapsed": 19031,
     "status": "ok",
     "timestamp": 1708339852969,
     "user": {
      "displayName": "Kristján Jónasson",
      "userId": "00508561415880381228"
     },
     "user_tz": 0
    },
    "id": "AG7qcLskxTgH",
    "outputId": "8ae8c784-aa6e-4f99-cf49-69c9bb12dc3f",
    "tags": []
   },
   "outputs": [],
   "source": [
    "# Define data to use\n",
    "datafolder = \"jöklar/data\"\n",
    "dataname = \"lang\"\n",
    "datapath = path + \"data/\" + dataname + \"/\""
   ]
  },
  {
   "cell_type": "code",
   "execution_count": 8,
   "id": "d5eb83a2-44bc-4b5e-ada0-5f3d51f32fd5",
   "metadata": {},
   "outputs": [],
   "source": [
    "# Define functions\n",
    "def read_tile(datapath, n):\n",
    "    #dataname = os.path.basename(datapath.rstrip('/'))\n",
    "    imgfile = datapath + f\"/img-{n:03d}.tif\"\n",
    "    maskfile = datapath + f\"/mask-{n:03d}.tif\"\n",
    "    with rasterio.open(imgfile) as f:\n",
    "        img_channels = f.meta[\"count\"]\n",
    "        img = np.array([f.read(b) for b in range(1, img_channels + 1)])\n",
    "        x = f.meta[\"transform\"][2]\n",
    "        y = f.meta[\"transform\"][5]\n",
    "    with rasterio.open(maskfile) as f:\n",
    "        mask_channels = f.meta[\"count\"]\n",
    "        masks = np.array([f.read(b) for b in range(1, mask_channels + 1)])\n",
    "        mask = np.any(masks, axis=0)\n",
    "    return img, mask, x, y"
   ]
  },
  {
   "cell_type": "code",
   "execution_count": 14,
   "id": "47f8009f-b3a5-43c5-a227-c6ac5b6eecd7",
   "metadata": {},
   "outputs": [
    {
     "data": {
      "text/plain": [
       "(dtype('uint16'), dtype('bool'))"
      ]
     },
     "execution_count": 14,
     "metadata": {},
     "output_type": "execute_result"
    }
   ],
   "source": [
    "img, mask, x, y = read_tile(datapath, 21)\n",
    "img.dtype, mask.dtype"
   ]
  },
  {
   "cell_type": "code",
   "execution_count": 17,
   "id": "a4ac7fb7-a31c-4986-8380-8d99577fb577",
   "metadata": {
    "colab": {
     "base_uri": "https://localhost:8080/"
    },
    "editable": true,
    "executionInfo": {
     "elapsed": 61332,
     "status": "ok",
     "timestamp": 1708590694466,
     "user": {
      "displayName": "Kristján Jónasson",
      "userId": "00508561415880381228"
     },
     "user_tz": 0
    },
    "id": "1d3c8841-9af8-4795-b0ff-a00adfa36e20",
    "outputId": "81c2fbf9-0ecd-42d3-cb2e-837b4469931b",
    "tags": []
   },
   "outputs": [],
   "source": [
    "def read_tiles(datapath):\n",
    "    # Read a whole glacier\n",
    "    nfiles = len(glob(f\"{datapath}/img-*\"))\n",
    "    img = nfiles*[None]\n",
    "    mask = np.zeros((nfiles, 256, 256), bool)\n",
    "    x = np.zeros(nfiles)\n",
    "    y = np.zeros(nfiles)\n",
    "    for n in range(nfiles):\n",
    "        img[n], mask[n], x[n], y[n] = read_tile(datapath, n)\n",
    "        if n % 10 == 0:\n",
    "            print(f\"{n}, \", end=\"\")\n",
    "    print()\n",
    "    col = ((x - x.min())/2560).astype(int)\n",
    "    row = ((y - y.min())/2560).astype(int)\n",
    "    I = np.lexsort((col, row))\n",
    "    row = row[I]\n",
    "    col = col[I]\n",
    "    mask = mask[I]\n",
    "    data = np.transpose(np.array(img)[I], (0, 2, 3, 1))/10000\n",
    "    return data, mask, row, col\n",
    "\n",
    "def print_info(image, mask, row, col):\n",
    "    # Print summary and tif-meta information\n",
    "    w = (col[-1] + 1)*2.56\n",
    "    h = (row[-1] + 1)*2.56\n",
    "    pct_glacier = np.sum(mask)/np.size(mask)*100\n",
    "    print()\n",
    "    print(f\"Image shape: {image.shape}, data type: {image.dtype}\")\n",
    "    print(f\"Region width {w} km, height {h} km\")\n",
    "    print(f\"Pixels labeled glacier: {pct_glacier:.1f}%\")\n",
    "    print()\n",
    "\n",
    "def save_data_and_report(outfile, image, mask, row, col):\n",
    "    np.savez_compressed(outfile, image=image, mask=mask, row=row, col=col)\n",
    "    size = os.path.getsize(outfile)\n",
    "    print(size)\n",
    "    compress_ratio = size/(image.nbytes + mask.nbytes + row.nbytes + col.nbytes)\n",
    "    print(f\"Wrote {size/2**20:.1f} Mb of data to {outfile}\")\n",
    "    print(f\"  Compression ratio: {compress_ratio:.2f}\")\n",
    "    print()"
   ]
  },
  {
   "cell_type": "code",
   "execution_count": null,
   "id": "670d0eab-795e-435e-be91-b65982b7ab24",
   "metadata": {
    "colab": {
     "base_uri": "https://localhost:8080/"
    },
    "editable": true,
    "executionInfo": {
     "elapsed": 61332,
     "status": "ok",
     "timestamp": 1708590694466,
     "user": {
      "displayName": "Kristján Jónasson",
      "userId": "00508561415880381228"
     },
     "user_tz": 0
    },
    "id": "1d3c8841-9af8-4795-b0ff-a00adfa36e20",
    "outputId": "81c2fbf9-0ecd-42d3-cb2e-837b4469931b",
    "tags": []
   },
   "outputs": [],
   "source": [
    "# Read data and report\n",
    "image, mask, row, col = read_tiles(datapath)\n",
    "print_info(image, mask, row, col)"
   ]
  },
  {
   "cell_type": "code",
   "execution_count": 23,
   "id": "636f4e7d-4d30-40b2-9d79-460fb206cae6",
   "metadata": {},
   "outputs": [
    {
     "data": {
      "text/plain": [
       "(1.342701568, 0.012910592)"
      ]
     },
     "execution_count": 23,
     "metadata": {},
     "output_type": "execute_result"
    }
   ],
   "source": [
    "image.nbytes/1e9, mask.nbytes/1e9"
   ]
  },
  {
   "cell_type": "code",
   "execution_count": null,
   "id": "46455e69-7f7a-4dd3-a638-7f6ce164db60",
   "metadata": {
    "colab": {
     "base_uri": "https://localhost:8080/"
    },
    "editable": true,
    "executionInfo": {
     "elapsed": 61332,
     "status": "ok",
     "timestamp": 1708590694466,
     "user": {
      "displayName": "Kristján Jónasson",
      "userId": "00508561415880381228"
     },
     "user_tz": 0
    },
    "id": "1d3c8841-9af8-4795-b0ff-a00adfa36e20",
    "outputId": "81c2fbf9-0ecd-42d3-cb2e-837b4469931b",
    "tags": []
   },
   "outputs": [
    {
     "name": "stdout",
     "output_type": "stream",
     "text": [
      "0, 10, 20, 30, 40, 50, 60, 70, 80, 90, 100, 110, 120, 130, 140, 150, 160, 170, 180, 190, \n",
      "\n",
      "Image shape: (197, 256, 256, 13), data type: float64\n",
      "Region width 48.64 km, height 48.64 km\n",
      "Pixels labeled glacier: 68.5%\n",
      "\n",
      "229518533\n",
      "Wrote 218.9 Mb of data to /Users/jonasson/drive/jöklar/data/lang/lang.npz\n",
      "  Compression ratio: 0.17\n",
      "\n"
     ]
    }
   ],
   "source": [
    "# Save to compressed file and report\n",
    "dataname = os.path.basename(datapath.rstrip(\"/\"))\n",
    "outfile = datapath + dataname + \".npz\"\n",
    "save_data_and_report(outfile, image, mask, row, col)"
   ]
  },
  {
   "cell_type": "code",
   "execution_count": null,
   "id": "598cff53-3848-43a9-866b-e7aefb1ed9bc",
   "metadata": {
    "colab": {
     "base_uri": "https://localhost:8080/"
    },
    "executionInfo": {
     "elapsed": 3149,
     "status": "ok",
     "timestamp": 1708590733691,
     "user": {
      "displayName": "Kristján Jónasson",
      "userId": "00508561415880381228"
     },
     "user_tz": 0
    },
    "id": "598cff53-3848-43a9-866b-e7aefb1ed9bc",
    "outputId": "e00b864b-2459-4183-ec76-8962f3f96fe4"
   },
   "outputs": [],
   "source": [
    "%%time\n",
    "# Test reading of the file\n",
    "print(outfile)\n",
    "data = np.load(outfile)\n",
    "[img, mask, row, col] = data.values()\n",
    "img.shape, mask.shape, row.shape, col.shape"
   ]
  }
 ],
 "metadata": {
  "colab": {
   "provenance": []
  },
  "kernelspec": {
   "display_name": "Python 3 (ipykernel)",
   "language": "python",
   "name": "python3"
  },
  "language_info": {
   "codemirror_mode": {
    "name": "ipython",
    "version": 3
   },
   "file_extension": ".py",
   "mimetype": "text/x-python",
   "name": "python",
   "nbconvert_exporter": "python",
   "pygments_lexer": "ipython3",
   "version": "3.10.9"
  }
 },
 "nbformat": 4,
 "nbformat_minor": 5
}
