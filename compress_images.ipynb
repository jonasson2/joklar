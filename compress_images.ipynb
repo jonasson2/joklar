{
 "cells": [
  {
   "cell_type": "code",
   "execution_count": null,
   "id": "0",
   "metadata": {
    "colab": {
     "base_uri": "https://localhost:8080/"
    },
    "executionInfo": {
     "elapsed": 19031,
     "status": "ok",
     "timestamp": 1708339852969,
     "user": {
      "displayName": "Kristján Jónasson",
      "userId": "00508561415880381228"
     },
     "user_tz": 0
    },
    "id": "AG7qcLskxTgH",
    "outputId": "8ae8c784-aa6e-4f99-cf49-69c9bb12dc3f",
    "tags": []
   },
   "outputs": [],
   "source": [
    "# Install and import\n",
    "import os, sys, numpy as np\n",
    "from glob import glob\n",
    "try: # Check platform (Colab or Jupyter)\n",
    "  import google.colab\n",
    "  my_drive = \"/content/drive/My Drive/\"\n",
    "except:\n",
    "  my_drive = os.path.expanduser(\"~\") + \"/drive/\"\n",
    "path = my_drive + \"joklar/\"\n",
    "sys.path.append(path + \"src\")\n",
    "from util.util import install_import\n",
    "from util.image_util import get_border_indices, load_data\n",
    "rasterio = install_import(\"rasterio\")"
   ]
  },
  {
   "cell_type": "code",
   "execution_count": null,
   "id": "1",
   "metadata": {
    "colab": {
     "base_uri": "https://localhost:8080/"
    },
    "executionInfo": {
     "elapsed": 19031,
     "status": "ok",
     "timestamp": 1708339852969,
     "user": {
      "displayName": "Kristján Jónasson",
      "userId": "00508561415880381228"
     },
     "user_tz": 0
    },
    "id": "AG7qcLskxTgH",
    "outputId": "8ae8c784-aa6e-4f99-cf49-69c9bb12dc3f",
    "tags": []
   },
   "outputs": [],
   "source": [
    "# Define data to use\n",
    "datafolder = \"joklar/data\"\n",
    "dataname = \"lang\"\n",
    "datapath = path + \"data/\" + dataname + \"/\""
   ]
  },
  {
   "cell_type": "code",
   "execution_count": null,
   "id": "2",
   "metadata": {},
   "outputs": [],
   "source": [
    "# Define functions\n",
    "def read_tile(datapath, n):\n",
    "    #dataname = os.path.basename(datapath.rstrip('/'))\n",
    "    imgfile = datapath + f\"/img-{n:03d}.tif\"\n",
    "    maskfile = datapath + f\"/mask-{n:03d}.tif\"\n",
    "    with rasterio.open(imgfile) as f:\n",
    "        img_channels = f.meta[\"count\"]\n",
    "        img = np.array([f.read(b) for b in range(1, img_channels + 1)])\n",
    "        x = f.meta[\"transform\"][2]\n",
    "        y = f.meta[\"transform\"][5]\n",
    "    with rasterio.open(maskfile) as f:\n",
    "        mask_channels = f.meta[\"count\"]\n",
    "        masks = np.array([f.read(b) for b in range(1, mask_channels + 1)])\n",
    "        mask = np.any(masks, axis=0)\n",
    "    return img, mask, x, y"
   ]
  },
  {
   "cell_type": "code",
   "execution_count": null,
   "id": "3",
   "metadata": {},
   "outputs": [],
   "source": [
    "img, mask, x, y = read_tile(datapath, 21)\n",
    "img.dtype, mask.dtype"
   ]
  },
  {
   "cell_type": "code",
   "execution_count": null,
   "id": "4",
   "metadata": {
    "colab": {
     "base_uri": "https://localhost:8080/"
    },
    "editable": true,
    "executionInfo": {
     "elapsed": 61332,
     "status": "ok",
     "timestamp": 1708590694466,
     "user": {
      "displayName": "Kristján Jónasson",
      "userId": "00508561415880381228"
     },
     "user_tz": 0
    },
    "id": "1d3c8841-9af8-4795-b0ff-a00adfa36e20",
    "outputId": "81c2fbf9-0ecd-42d3-cb2e-837b4469931b",
    "tags": []
   },
   "outputs": [],
   "source": [
    "def read_tiles(datapath):\n",
    "    # Read a whole glacier\n",
    "    nfiles = len(glob(f\"{datapath}/img-*\"))\n",
    "    img = nfiles*[None]\n",
    "    mask = np.zeros((nfiles, 256, 256), bool)\n",
    "    x = np.zeros(nfiles)\n",
    "    y = np.zeros(nfiles)\n",
    "    for n in range(nfiles):\n",
    "        img[n], mask[n], x[n], y[n] = read_tile(datapath, n)\n",
    "        if n % 10 == 0:\n",
    "            print(f\"{n}, \", end=\"\")\n",
    "    col = ((x - x.min())/2560).astype(int)\n",
    "    row = ((y - y.min())/2560).astype(int)\n",
    "    I = np.lexsort((col, row))\n",
    "    row = row[I]\n",
    "    col = col[I]\n",
    "    mask = mask[I]\n",
    "    data = np.transpose(np.array(img)[I], (0, 2, 3, 1))\n",
    "    return data, mask, row, col"
   ]
  },
  {
   "cell_type": "code",
   "execution_count": null,
   "id": "5",
   "metadata": {},
   "outputs": [],
   "source": [
    "def print_info(border_indices, image, mask, row, col):\n",
    "    # Print summary and tif-meta information\n",
    "    w = (col[-1] + 1)*2.56\n",
    "    h = (row[-1] + 1)*2.56\n",
    "    pct_glacier = np.sum(mask)/np.size(mask)*100\n",
    "    n_border = len(border_indices)\n",
    "    pct_border = len(border_indices)/len(mask)*100\n",
    "    print()\n",
    "    print(f\"Image shape: {image.shape}, data type: {image.dtype}\")\n",
    "    print(f\"Region width {w} km, height {h} km\")\n",
    "    print(f\"Pixels labeled glacier: {pct_glacier:.1f}%\")\n",
    "    print(f\"Border indices: {n_border} ({pct_border:.1f}%)\")\n",
    "    print(f\"Mask datatype: {mask.dtype}\")\n",
    "    print()\n",
    "\n",
    "def save_data_and_report(outfile, border_indices, image, mask, row, col):\n",
    "    np.savez_compressed(outfile, border_indices=border_indices,\n",
    "                        image=image, mask=mask, row=row, col=col)\n",
    "    size = os.path.getsize(outfile)\n",
    "    print(size)\n",
    "    compress_ratio = size/(image.nbytes + mask.nbytes + row.nbytes + col.nbytes)\n",
    "    print(f\"Wrote {size/2**20:.1f} Mb of data to {outfile}\")\n",
    "    print(f\"  Compression ratio: {compress_ratio:.2f}\")\n",
    "    print()"
   ]
  },
  {
   "cell_type": "code",
   "execution_count": null,
   "id": "6",
   "metadata": {
    "colab": {
     "base_uri": "https://localhost:8080/"
    },
    "editable": true,
    "executionInfo": {
     "elapsed": 61332,
     "status": "ok",
     "timestamp": 1708590694466,
     "user": {
      "displayName": "Kristján Jónasson",
      "userId": "00508561415880381228"
     },
     "user_tz": 0
    },
    "id": "1d3c8841-9af8-4795-b0ff-a00adfa36e20",
    "outputId": "81c2fbf9-0ecd-42d3-cb2e-837b4469931b",
    "tags": []
   },
   "outputs": [],
   "source": [
    "# Read data and report\n",
    "image, mask, row, col = read_tiles(datapath)\n",
    "border_indices = get_border_indices(image, mask)\n",
    "print_info(border_indices, image, mask, row, col)"
   ]
  },
  {
   "cell_type": "code",
   "execution_count": null,
   "id": "7",
   "metadata": {
    "colab": {
     "base_uri": "https://localhost:8080/"
    },
    "editable": true,
    "executionInfo": {
     "elapsed": 61332,
     "status": "ok",
     "timestamp": 1708590694466,
     "user": {
      "displayName": "Kristján Jónasson",
      "userId": "00508561415880381228"
     },
     "user_tz": 0
    },
    "id": "1d3c8841-9af8-4795-b0ff-a00adfa36e20",
    "outputId": "81c2fbf9-0ecd-42d3-cb2e-837b4469931b",
    "tags": []
   },
   "outputs": [],
   "source": [
    "# Save to compressed file and report\n",
    "dataname = os.path.basename(datapath.rstrip(\"/\"))\n",
    "outfile = datapath + \"data.npz\"\n",
    "save_data_and_report(outfile, border_indices, image, mask, row, col)"
   ]
  },
  {
   "cell_type": "code",
   "execution_count": null,
   "id": "8",
   "metadata": {
    "colab": {
     "base_uri": "https://localhost:8080/"
    },
    "executionInfo": {
     "elapsed": 3149,
     "status": "ok",
     "timestamp": 1708590733691,
     "user": {
      "displayName": "Kristján Jónasson",
      "userId": "00508561415880381228"
     },
     "user_tz": 0
    },
    "id": "598cff53-3848-43a9-866b-e7aefb1ed9bc",
    "outputId": "e00b864b-2459-4183-ec76-8962f3f96fe4",
    "tags": []
   },
   "outputs": [],
   "source": [
    "%%time\n",
    "# Test reading of the file\n",
    "(image, mask, row, col) = load_data(outfile, \"all\")\n",
    "print(len(mask))\n",
    "image.shape, mask.shape, row.shape, col.shape"
   ]
  }
 ],
 "metadata": {
  "colab": {
   "provenance": []
  },
  "kernelspec": {
   "display_name": "Python 3 (ipykernel)",
   "language": "python",
   "name": "python3"
  },
  "language_info": {
   "codemirror_mode": {
    "name": "ipython",
    "version": 3
   },
   "file_extension": ".py",
   "mimetype": "text/x-python",
   "name": "python",
   "nbconvert_exporter": "python",
   "pygments_lexer": "ipython3",
   "version": "3.11.3"
  }
 },
 "nbformat": 4,
 "nbformat_minor": 5
}
