{
 "cells": [
  {
   "cell_type": "code",
   "execution_count": null,
   "metadata": {
    "id": "ngBAwBVxND6E"
   },
   "outputs": [],
   "source": [
    "# Mount google drive, install rasterio\n",
    "import os, numpy as np, pandas as pd, random, sys\n",
    "modeltype = \"unet\"\n",
    "dataname = \"lang\"\n",
    "path = \"/content/drive/My Drive/jöklar/\"\n",
    "sys.path.append(path + \"src\")\n",
    "from util.util import install_import\n",
    "install_import(\"rasterio\")\n",
    "import rasterio\n",
    "model_path = path + \"results/\" + modeltype + \"/\"\n",
    "data_path = path + \"data/\" + dataname + \"/\"\n",
    "os.makedirs(model_path, exist_ok=True)\n",
    "os.chdir(model_path)"
   ]
  },
  {
   "cell_type": "code",
   "execution_count": null,
   "metadata": {
    "colab": {
     "base_uri": "https://localhost:8080/"
    },
    "executionInfo": {
     "elapsed": 24695,
     "status": "ok",
     "timestamp": 1707950469736,
     "user": {
      "displayName": "Kristján Jónasson",
      "userId": "00508561415880381228"
     },
     "user_tz": 0
    },
    "id": "hpqz9_2nJ_bX",
    "outputId": "d1b0aa4f-6559-4145-c6e8-6f1b87940718"
   },
   "outputs": [],
   "source": [
    "# Read image data\n",
    "%%time\n",
    "(img, mask, is_on_border, train, val, test) = (np.load(data_path +\n",
    "                                              \"images.npz\").values())\n",
    "X = img[is_on_border].astype(np.float32)/10000\n",
    "Y = mask[is_on_border]"
   ]
  },
  {
   "cell_type": "code",
   "execution_count": null,
   "metadata": {
    "colab": {
     "base_uri": "https://localhost:8080/"
    },
    "executionInfo": {
     "elapsed": 20123,
     "status": "ok",
     "timestamp": 1707951145340,
     "user": {
      "displayName": "Kristján Jónasson",
      "userId": "00508561415880381228"
     },
     "user_tz": 0
    },
    "id": "E9l-uNdx4pbV",
    "outputId": "c772a2fb-c594-4f9c-d90b-3eb9a9d743c2"
   },
   "outputs": [],
   "source": [
    "# Read training history, best model and model predictions\n",
    "from tensorflow.keras.models import load_model\n",
    "history = pd.read_csv('result_history.csv')\n",
    "model = load_model('model_first.keras')\n",
    "model.load_weights('model_best.keras')\n",
    "print(history[-3:])\n",
    "loaded = np.load(\"probs.npz\")\n",
    "(probs, test_loss, test_accuracy) = loaded.values()\n",
    "train_probs = probs[train]\n",
    "val_probs = probs[val]\n",
    "test_probs = probs[test]\n",
    "print(f\"Test accuracy: {test_accuracy}\")"
   ]
  },
  {
   "cell_type": "code",
   "execution_count": null,
   "metadata": {
    "colab": {
     "base_uri": "https://localhost:8080/",
     "height": 333
    },
    "executionInfo": {
     "elapsed": 987,
     "status": "ok",
     "timestamp": 1707951151455,
     "user": {
      "displayName": "Kristján Jónasson",
      "userId": "00508561415880381228"
     },
     "user_tz": 0
    },
    "id": "3oeQFelQT8NI",
    "outputId": "fb90ca33-34c0-4b50-ce17-8f7a44afd1fb"
   },
   "outputs": [],
   "source": [
    "# Plot training history\n",
    "import matplotlib.pyplot as plt\n",
    "plt.figure(figsize=(5, 3))\n",
    "plt.title(\"Learning curve\")\n",
    "plt.plot(history.loss, label=\"loss\")\n",
    "plt.plot(history.val_loss, label=\"val_loss\")\n",
    "plt.plot(np.argmin(history.val_loss), history.val_loss.min(), marker=\"x\",\n",
    "         color=\"r\", label=\"best model\")\n",
    "plt.xlabel(\"Epochs\")\n",
    "plt.ylabel(\"log_loss\")\n",
    "plt.legend();"
   ]
  },
  {
   "cell_type": "code",
   "execution_count": null,
   "metadata": {
    "colab": {
     "base_uri": "https://localhost:8080/",
     "height": 177
    },
    "executionInfo": {
     "elapsed": 508,
     "status": "ok",
     "timestamp": 1707951156109,
     "user": {
      "displayName": "Kristján Jónasson",
      "userId": "00508561415880381228"
     },
     "user_tz": 0
    },
    "id": "9yKVagYC5zF8",
    "outputId": "acf1b118-2fc9-4781-8dfe-9899e42cebf2"
   },
   "outputs": [],
   "source": [
    "# Plot probabilities according to data split\n",
    "from matplotlib.ticker import PercentFormatter\n",
    "fig, axes = plt.subplots(1, 3, figsize=(8, 2), sharey=True)\n",
    "datasets = [train_probs, val_probs, test_probs]\n",
    "labels = ['Train', 'Validation', 'Test']\n",
    "for i, (data, label) in enumerate(zip(datasets, labels)):\n",
    "    axes[i].hist(data.ravel(), bins=10, range=(0, 1), rwidth=0.8, color='skyblue',\n",
    "                 ec='k', zorder=3, density=True)\n",
    "    axes[i].set_xlabel('Probabilities')\n",
    "    axes[i].set_ylabel('Percentage' if i == 0 else '')\n",
    "    axes[i].set_title(label)\n",
    "    axes[i].grid(True, axis='y', linestyle='-', lw=1, color='lightgray', zorder=0)\n",
    "    #if i==0:\n",
    "    axes[i].yaxis.set_major_formatter(PercentFormatter(10, decimals=0))\n",
    "plt.tight_layout()\n",
    "plt.show()"
   ]
  },
  {
   "cell_type": "code",
   "execution_count": null,
   "metadata": {
    "colab": {
     "base_uri": "https://localhost:8080/",
     "height": 108
    },
    "executionInfo": {
     "elapsed": 436,
     "status": "error",
     "timestamp": 1707951161649,
     "user": {
      "displayName": "Kristján Jónasson",
      "userId": "00508561415880381228"
     },
     "user_tz": 0
    },
    "id": "tr5U3n4iVfwr",
    "outputId": "7186dc3a-2017-4bfb-9b5b-94eedb612cef"
   },
   "outputs": [],
   "source": [
    "def plot_sample(X, y, preds, binary_preds, indices):\n",
    "    \"\"\"Function to plot the results\"\"\"\n",
    "    nrows = len(indices):\n",
    "    print(ix)\n",
    "    for (irow, ix) in enumerate(indices):\n",
    "      has_mask = y[ix].max() > 0\n",
    "      fig, ax = plt.subplots(nrows, 4, figsize=(12,3))\n",
    "\n",
    "      ax[irow].imshow(X[ix, ..., 0])\n",
    "      if has_mask:\n",
    "          ax[irow].contour(y[ix].squeeze(), colors='k', levels=[0.5])\n",
    "      if ix == indices[0]:\n",
    "        ax[i].set_title('Original')\n",
    "\n",
    "        ax[1].imshow(y[ix].squeeze(), cmap = 'gray')\n",
    "        ax[1].set_title('Mask')\n",
    "\n",
    "        ax[2].imshow(preds[ix].squeeze(), vmin=0, vmax=1, cmap = 'gray')\n",
    "        if has_mask:\n",
    "            ax[2].contour(y[ix].squeeze(), colors='r', levels=[0.5])\n",
    "        ax[2].set_title('Glaciers Predicted')\n",
    "\n",
    "        ax[3].imshow(binary_preds[ix].squeeze(), vmin=0, vmax=1, cmap = 'gray')\n",
    "        if has_mask:\n",
    "            ax[3].contour(y[ix].squeeze(), colors='r', levels=[0.5])\n",
    "        ax[3].set_title('Glaciers Predicted binary');\n",
    "# Check if training data looks all right\n",
    "train_probs_01 = (train_probs > 0.5).astype(np.uint8)\n",
    "plot_sample(img[train], mask[train], train_probs, train_probs_01, 69)"
   ]
  },
  {
   "cell_type": "code",
   "execution_count": null,
   "metadata": {
    "id": "BBQhEEhw2XoS"
   },
   "outputs": [],
   "source": []
  },
  {
   "cell_type": "code",
   "execution_count": null,
   "metadata": {
    "colab": {
     "base_uri": "https://localhost:8080/",
     "height": 379
    },
    "executionInfo": {
     "elapsed": 1440,
     "status": "ok",
     "timestamp": 1705530460497,
     "user": {
      "displayName": "Kristján Jónasson",
      "userId": "00508561415880381228"
     },
     "user_tz": 0
    },
    "id": "SHnjec4jVlZv",
    "outputId": "0d277f4d-f739-435f-acf1-a9e8ba29ec50"
   },
   "outputs": [],
   "source": [
    "# Check if validation data looks all right\n",
    "plot_sample(img[val], mask[val], val_probs, val_probs_t)"
   ]
  },
  {
   "cell_type": "code",
   "execution_count": null,
   "metadata": {
    "id": "iWN8HeyBi_N-"
   },
   "outputs": [],
   "source": []
  },
  {
   "cell_type": "code",
   "execution_count": null,
   "metadata": {
    "colab": {
     "base_uri": "https://localhost:8080/"
    },
    "executionInfo": {
     "elapsed": 16505,
     "status": "ok",
     "timestamp": 1697620135327,
     "user": {
      "displayName": "Kristján Jónasson",
      "userId": "00508561415880381228"
     },
     "user_tz": 0
    },
    "id": "iXOG81b36s_u",
    "outputId": "375700b6-d8b6-4d05-f0a8-bca617a17527"
   },
   "outputs": [],
   "source": [
    "# Predict each image and write the output as mask raster\n",
    "# Mýr\n",
    "# n_images = 115\n",
    "# Lan\n",
    "import rasterio, json\n",
    "from cnn_util.meta_util import dejsonify_list\n",
    "n_images = len(img)\n",
    "n_channels = 13\n",
    "threshold = 0.5\n",
    "with open('meta.json') as f:\n",
    "    meta_list = dejsonify_list(json.load(f))\n",
    "print(os.getcwd())\n",
    "for i in range(n_images):\n",
    "  f = rasterio.open(\"/content/drive/MyDrive/tif_img_256_lan_more/img_\" + str(i) + \".tif\")\n",
    "  prediction_t = (probs[i] > threshold).astype(np.uint8)\n",
    "  meta = meta_list[i]\n",
    "  meta[\"nodata\"] = 0\n",
    "  meta[\"count\"] = 1\n",
    "  new_arr = np.rollaxis(prediction_t[:,:,:], 2, 0)\n",
    "  filename = \"test\" + str(i) + \".tif\"\n",
    "  print(filename)\n",
    "  with rasterio.open(filename, \"w\", **meta) as dest:\n",
    "    dest.write(new_arr)"
   ]
  },
  {
   "cell_type": "code",
   "execution_count": null,
   "metadata": {
    "colab": {
     "base_uri": "https://localhost:8080/",
     "height": 35
    },
    "executionInfo": {
     "elapsed": 243,
     "status": "ok",
     "timestamp": 1697620136993,
     "user": {
      "displayName": "Kristján Jónasson",
      "userId": "00508561415880381228"
     },
     "user_tz": 0
    },
    "id": "TbY0XQJ7KO0B",
    "outputId": "00bbf31f-dfc5-4519-9745-e02f4fb8b6ca"
   },
   "outputs": [],
   "source": [
    "os.getcwd()"
   ]
  },
  {
   "cell_type": "markdown",
   "metadata": {
    "id": "iAyaxGM46tkf"
   },
   "source": [
    "# **Búa til nýjar útlínur**"
   ]
  },
  {
   "cell_type": "code",
   "execution_count": null,
   "metadata": {
    "colab": {
     "base_uri": "https://localhost:8080/"
    },
    "executionInfo": {
     "elapsed": 3,
     "status": "ok",
     "timestamp": 1697556522921,
     "user": {
      "displayName": "Kristján Jónasson",
      "userId": "00508561415880381228"
     },
     "user_tz": 0
    },
    "id": "R0YqfMmgQJFz",
    "outputId": "02baaa3c-31c5-4497-c1b4-f707cec0084b"
   },
   "outputs": [],
   "source": [
    "img.shape"
   ]
  },
  {
   "cell_type": "code",
   "execution_count": null,
   "metadata": {
    "colab": {
     "base_uri": "https://localhost:8080/"
    },
    "executionInfo": {
     "elapsed": 1011,
     "status": "ok",
     "timestamp": 1697620144060,
     "user": {
      "displayName": "Kristján Jónasson",
      "userId": "00508561415880381228"
     },
     "user_tz": 0
    },
    "id": "mI-A5P238Mtc",
    "outputId": "7a7ed93f-60a2-45b7-c0f9-843c394cce75"
   },
   "outputs": [],
   "source": [
    "import glob\n",
    "from osgeo import gdal\n",
    "import subprocess\n",
    "\n",
    "demList = glob.glob(\"test*.tif\")\n",
    "print(len(demList))"
   ]
  },
  {
   "cell_type": "code",
   "execution_count": null,
   "metadata": {
    "id": "XKoqRsud94Vs"
   },
   "outputs": [],
   "source": [
    "vrt = gdal.BuildVRT(\"merged.vrt\", demList)\n",
    "gdal.Translate(\"mergedDEM-deeplab-mobilenet-myr.tif\", vrt, xRes=10, yRes=-10)\n",
    "vrt = None"
   ]
  },
  {
   "cell_type": "code",
   "execution_count": null,
   "metadata": {
    "id": "oA7K4og_L-qL"
   },
   "outputs": [],
   "source": []
  },
  {
   "cell_type": "code",
   "execution_count": null,
   "metadata": {
    "colab": {
     "base_uri": "https://localhost:8080/",
     "height": 462
    },
    "executionInfo": {
     "elapsed": 2494,
     "status": "ok",
     "timestamp": 1697620150283,
     "user": {
      "displayName": "Kristján Jónasson",
      "userId": "00508561415880381228"
     },
     "user_tz": 0
    },
    "id": "ytxG9NQz94Ti",
    "outputId": "f735ae98-212c-452c-838b-f9b949967948"
   },
   "outputs": [],
   "source": [
    "from rasterio.plot import show\n",
    "r = rasterio.open(\"mergedDEM-deeplab-mobilenet-myr.tif\")\n",
    "show(r)"
   ]
  },
  {
   "cell_type": "code",
   "execution_count": null,
   "metadata": {
    "colab": {
     "base_uri": "https://localhost:8080/"
    },
    "executionInfo": {
     "elapsed": 1193,
     "status": "ok",
     "timestamp": 1697620168596,
     "user": {
      "displayName": "Kristján Jónasson",
      "userId": "00508561415880381228"
     },
     "user_tz": 0
    },
    "id": "IF6ld6R6-Iny",
    "outputId": "746c2dc7-60ab-42e9-d9b6-1cb73a501c9f"
   },
   "outputs": [],
   "source": [
    "!gdal_polygonize.py mergedDEM-deeplab-mobilenet-myr.tif -f \"ESRI Shapefile\" mergedDEM-deeplab-mobilenet-myr.shp"
   ]
  },
  {
   "cell_type": "code",
   "execution_count": null,
   "metadata": {
    "colab": {
     "base_uri": "https://localhost:8080/",
     "height": 462
    },
    "executionInfo": {
     "elapsed": 2471,
     "status": "ok",
     "timestamp": 1697620175093,
     "user": {
      "displayName": "Kristján Jónasson",
      "userId": "00508561415880381228"
     },
     "user_tz": 0
    },
    "id": "4ZEOMDE0-OpZ",
    "outputId": "4332b59f-43bb-4912-87a6-c327628fe575"
   },
   "outputs": [],
   "source": [
    "import geopandas as gpd\n",
    "stat = gpd.read_file(\"mergedDEM-deeplab-mobilenet-myr.shp\")\n",
    "stat.plot()"
   ]
  },
  {
   "cell_type": "code",
   "execution_count": null,
   "metadata": {
    "id": "dgA09lxeDBuz"
   },
   "outputs": [],
   "source": []
  }
 ],
 "metadata": {
  "colab": {
   "authorship_tag": "ABX9TyPJuF8j1938DepXyU/De9o1",
   "mount_file_id": "1JvcIr6YygTUOlCSs30sHjgEJJ4ZFqItt",
   "provenance": []
  },
  "kernelspec": {
   "display_name": "Python 3",
   "name": "python3"
  },
  "language_info": {
   "name": "python"
  }
 },
 "nbformat": 4,
 "nbformat_minor": 0
}
